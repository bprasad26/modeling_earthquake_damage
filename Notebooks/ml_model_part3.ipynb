{
 "cells": [
  {
   "cell_type": "code",
   "execution_count": 1,
   "metadata": {},
   "outputs": [
    {
     "data": {
      "application/javascript": [
       "\n",
       "            setTimeout(function() {\n",
       "                var nbb_cell_id = 1;\n",
       "                var nbb_unformatted_code = \"import os\\nimport joblib\\nimport pandas as pd\\nimport numpy as np\\nimport matplotlib.pyplot as plt\\nimport seaborn as sns\\nimport plotly.express as px\\nimport plotly.graph_objects as go\\n\\npd.options.display.max_columns = 999\\npd.options.display.max_rows = 50\\n%matplotlib inline\\n%load_ext nb_black\\n\\n# project paths\\nproject_root_dir = os.path.normpath(os.getcwd() + os.sep + os.pardir)\\ndata_path = os.path.join(project_root_dir, \\\"data\\\")\\nimage_path = os.path.join(project_root_dir, \\\"images\\\")\\nos.makedirs(image_path, exist_ok=True)\\nmodel_path = os.path.join(project_root_dir, \\\"models\\\")\\nos.makedirs(model_path, exist_ok=True)\\n\\n# function for loading data\\ndef load_data(filename, data_path=data_path):\\n    csv_path = os.path.join(data_path, filename)\\n    return pd.read_csv(csv_path)\\n\\n\\ndef save_model(model, model_name, path=model_path):\\n    \\\"\\\"\\\"This function save the trained model in pickle format\\\"\\\"\\\"\\n    path = os.path.join(model_path, model_name)\\n    joblib.dump(model, path)\\n\\n\\ndef load_model(model_name, path=model_path):\\n    \\\"\\\"\\\"This function loads the model\\\"\\\"\\\"\\n    model_to_load = os.path.join(model_path, model_name)\\n    return joblib.load(model_to_load)\\n\\n\\n# function for saving data as csv file\\ndef save_dataframe(df, filename, file_path=data_path):\\n    \\\"\\\"\\\"\\n    This function takes a dataframe and save it as a csv file.\\n    \\\"\\\"\\\"\\n    path = os.path.join(file_path, filename)\\n    df.to_csv(path, index=False)\";\n",
       "                var nbb_formatted_code = \"import os\\nimport joblib\\nimport pandas as pd\\nimport numpy as np\\nimport matplotlib.pyplot as plt\\nimport seaborn as sns\\nimport plotly.express as px\\nimport plotly.graph_objects as go\\n\\npd.options.display.max_columns = 999\\npd.options.display.max_rows = 50\\n%matplotlib inline\\n%load_ext nb_black\\n\\n# project paths\\nproject_root_dir = os.path.normpath(os.getcwd() + os.sep + os.pardir)\\ndata_path = os.path.join(project_root_dir, \\\"data\\\")\\nimage_path = os.path.join(project_root_dir, \\\"images\\\")\\nos.makedirs(image_path, exist_ok=True)\\nmodel_path = os.path.join(project_root_dir, \\\"models\\\")\\nos.makedirs(model_path, exist_ok=True)\\n\\n# function for loading data\\ndef load_data(filename, data_path=data_path):\\n    csv_path = os.path.join(data_path, filename)\\n    return pd.read_csv(csv_path)\\n\\n\\ndef save_model(model, model_name, path=model_path):\\n    \\\"\\\"\\\"This function save the trained model in pickle format\\\"\\\"\\\"\\n    path = os.path.join(model_path, model_name)\\n    joblib.dump(model, path)\\n\\n\\ndef load_model(model_name, path=model_path):\\n    \\\"\\\"\\\"This function loads the model\\\"\\\"\\\"\\n    model_to_load = os.path.join(model_path, model_name)\\n    return joblib.load(model_to_load)\\n\\n\\n# function for saving data as csv file\\ndef save_dataframe(df, filename, file_path=data_path):\\n    \\\"\\\"\\\"\\n    This function takes a dataframe and save it as a csv file.\\n    \\\"\\\"\\\"\\n    path = os.path.join(file_path, filename)\\n    df.to_csv(path, index=False)\";\n",
       "                var nbb_cells = Jupyter.notebook.get_cells();\n",
       "                for (var i = 0; i < nbb_cells.length; ++i) {\n",
       "                    if (nbb_cells[i].input_prompt_number == nbb_cell_id) {\n",
       "                        if (nbb_cells[i].get_text() == nbb_unformatted_code) {\n",
       "                             nbb_cells[i].set_text(nbb_formatted_code);\n",
       "                        }\n",
       "                        break;\n",
       "                    }\n",
       "                }\n",
       "            }, 500);\n",
       "            "
      ],
      "text/plain": [
       "<IPython.core.display.Javascript object>"
      ]
     },
     "metadata": {},
     "output_type": "display_data"
    }
   ],
   "source": [
    "import os\n",
    "import joblib\n",
    "import pandas as pd\n",
    "import numpy as np\n",
    "import matplotlib.pyplot as plt\n",
    "import seaborn as sns\n",
    "import plotly.express as px\n",
    "import plotly.graph_objects as go\n",
    "\n",
    "pd.options.display.max_columns = 999\n",
    "pd.options.display.max_rows = 50\n",
    "%matplotlib inline\n",
    "%load_ext nb_black\n",
    "\n",
    "# project paths\n",
    "project_root_dir = os.path.normpath(os.getcwd() + os.sep + os.pardir)\n",
    "data_path = os.path.join(project_root_dir, \"data\")\n",
    "image_path = os.path.join(project_root_dir, \"images\")\n",
    "os.makedirs(image_path, exist_ok=True)\n",
    "model_path = os.path.join(project_root_dir, \"models\")\n",
    "os.makedirs(model_path, exist_ok=True)\n",
    "\n",
    "# function for loading data\n",
    "def load_data(filename, data_path=data_path):\n",
    "    csv_path = os.path.join(data_path, filename)\n",
    "    return pd.read_csv(csv_path)\n",
    "\n",
    "\n",
    "def save_model(model, model_name, path=model_path):\n",
    "    \"\"\"This function save the trained model in pickle format\"\"\"\n",
    "    path = os.path.join(model_path, model_name)\n",
    "    joblib.dump(model, path)\n",
    "\n",
    "\n",
    "def load_model(model_name, path=model_path):\n",
    "    \"\"\"This function loads the model\"\"\"\n",
    "    model_to_load = os.path.join(model_path, model_name)\n",
    "    return joblib.load(model_to_load)\n",
    "\n",
    "\n",
    "# function for saving data as csv file\n",
    "def save_dataframe(df, filename, file_path=data_path):\n",
    "    \"\"\"\n",
    "    This function takes a dataframe and save it as a csv file.\n",
    "    \"\"\"\n",
    "    path = os.path.join(file_path, filename)\n",
    "    df.to_csv(path, index=False)"
   ]
  },
  {
   "cell_type": "code",
   "execution_count": 2,
   "metadata": {},
   "outputs": [
    {
     "data": {
      "application/javascript": [
       "\n",
       "            setTimeout(function() {\n",
       "                var nbb_cell_id = 2;\n",
       "                var nbb_unformatted_code = \"# Read the data\\nX_train = load_data(\\\"train_values.csv\\\")\\ny_train = load_data(\\\"train_labels.csv\\\")\\ny_train = y_train[\\\"damage_grade\\\"]\\nX_test = load_data(\\\"test_values.csv\\\")\\nsubmission_format = load_data(\\\"submission_format.csv\\\")\";\n",
       "                var nbb_formatted_code = \"# Read the data\\nX_train = load_data(\\\"train_values.csv\\\")\\ny_train = load_data(\\\"train_labels.csv\\\")\\ny_train = y_train[\\\"damage_grade\\\"]\\nX_test = load_data(\\\"test_values.csv\\\")\\nsubmission_format = load_data(\\\"submission_format.csv\\\")\";\n",
       "                var nbb_cells = Jupyter.notebook.get_cells();\n",
       "                for (var i = 0; i < nbb_cells.length; ++i) {\n",
       "                    if (nbb_cells[i].input_prompt_number == nbb_cell_id) {\n",
       "                        if (nbb_cells[i].get_text() == nbb_unformatted_code) {\n",
       "                             nbb_cells[i].set_text(nbb_formatted_code);\n",
       "                        }\n",
       "                        break;\n",
       "                    }\n",
       "                }\n",
       "            }, 500);\n",
       "            "
      ],
      "text/plain": [
       "<IPython.core.display.Javascript object>"
      ]
     },
     "metadata": {},
     "output_type": "display_data"
    }
   ],
   "source": [
    "# Read the data\n",
    "X_train = load_data(\"train_values.csv\")\n",
    "y_train = load_data(\"train_labels.csv\")\n",
    "y_train = y_train[\"damage_grade\"]\n",
    "X_test = load_data(\"test_values.csv\")\n",
    "submission_format = load_data(\"submission_format.csv\")"
   ]
  },
  {
   "cell_type": "code",
   "execution_count": 3,
   "metadata": {},
   "outputs": [
    {
     "data": {
      "text/plain": [
       "0    3\n",
       "1    2\n",
       "2    3\n",
       "3    2\n",
       "4    3\n",
       "Name: damage_grade, dtype: int64"
      ]
     },
     "execution_count": 3,
     "metadata": {},
     "output_type": "execute_result"
    },
    {
     "data": {
      "application/javascript": [
       "\n",
       "            setTimeout(function() {\n",
       "                var nbb_cell_id = 3;\n",
       "                var nbb_unformatted_code = \"y_train.head()\";\n",
       "                var nbb_formatted_code = \"y_train.head()\";\n",
       "                var nbb_cells = Jupyter.notebook.get_cells();\n",
       "                for (var i = 0; i < nbb_cells.length; ++i) {\n",
       "                    if (nbb_cells[i].input_prompt_number == nbb_cell_id) {\n",
       "                        if (nbb_cells[i].get_text() == nbb_unformatted_code) {\n",
       "                             nbb_cells[i].set_text(nbb_formatted_code);\n",
       "                        }\n",
       "                        break;\n",
       "                    }\n",
       "                }\n",
       "            }, 500);\n",
       "            "
      ],
      "text/plain": [
       "<IPython.core.display.Javascript object>"
      ]
     },
     "metadata": {},
     "output_type": "display_data"
    }
   ],
   "source": [
    "y_train.head()"
   ]
  },
  {
   "cell_type": "code",
   "execution_count": 4,
   "metadata": {},
   "outputs": [
    {
     "data": {
      "application/javascript": [
       "\n",
       "            setTimeout(function() {\n",
       "                var nbb_cell_id = 4;\n",
       "                var nbb_unformatted_code = \"# # merge the training data and select only the 40% of the data for training the model\\n# train = X_train.merge(y_train, left_on=\\\"building_id\\\", right_on=\\\"building_id\\\")\\n# train_40 = train.sample(frac=0.4, random_state=42, weights=\\\"damage_grade\\\")\\n# print(train_40.shape)\";\n",
       "                var nbb_formatted_code = \"# # merge the training data and select only the 40% of the data for training the model\\n# train = X_train.merge(y_train, left_on=\\\"building_id\\\", right_on=\\\"building_id\\\")\\n# train_40 = train.sample(frac=0.4, random_state=42, weights=\\\"damage_grade\\\")\\n# print(train_40.shape)\";\n",
       "                var nbb_cells = Jupyter.notebook.get_cells();\n",
       "                for (var i = 0; i < nbb_cells.length; ++i) {\n",
       "                    if (nbb_cells[i].input_prompt_number == nbb_cell_id) {\n",
       "                        if (nbb_cells[i].get_text() == nbb_unformatted_code) {\n",
       "                             nbb_cells[i].set_text(nbb_formatted_code);\n",
       "                        }\n",
       "                        break;\n",
       "                    }\n",
       "                }\n",
       "            }, 500);\n",
       "            "
      ],
      "text/plain": [
       "<IPython.core.display.Javascript object>"
      ]
     },
     "metadata": {},
     "output_type": "display_data"
    }
   ],
   "source": [
    "# # merge the training data and select only the 40% of the data for training the model\n",
    "# train = X_train.merge(y_train, left_on=\"building_id\", right_on=\"building_id\")\n",
    "# train_40 = train.sample(frac=0.4, random_state=42, weights=\"damage_grade\")\n",
    "# print(train_40.shape)"
   ]
  },
  {
   "cell_type": "code",
   "execution_count": 5,
   "metadata": {},
   "outputs": [
    {
     "data": {
      "application/javascript": [
       "\n",
       "            setTimeout(function() {\n",
       "                var nbb_cell_id = 5;\n",
       "                var nbb_unformatted_code = \"# X_train = train_40.drop(\\\"damage_grade\\\", axis=1)\\n# y_train = train_40[\\\"damage_grade\\\"]\";\n",
       "                var nbb_formatted_code = \"# X_train = train_40.drop(\\\"damage_grade\\\", axis=1)\\n# y_train = train_40[\\\"damage_grade\\\"]\";\n",
       "                var nbb_cells = Jupyter.notebook.get_cells();\n",
       "                for (var i = 0; i < nbb_cells.length; ++i) {\n",
       "                    if (nbb_cells[i].input_prompt_number == nbb_cell_id) {\n",
       "                        if (nbb_cells[i].get_text() == nbb_unformatted_code) {\n",
       "                             nbb_cells[i].set_text(nbb_formatted_code);\n",
       "                        }\n",
       "                        break;\n",
       "                    }\n",
       "                }\n",
       "            }, 500);\n",
       "            "
      ],
      "text/plain": [
       "<IPython.core.display.Javascript object>"
      ]
     },
     "metadata": {},
     "output_type": "display_data"
    }
   ],
   "source": [
    "# X_train = train_40.drop(\"damage_grade\", axis=1)\n",
    "# y_train = train_40[\"damage_grade\"]"
   ]
  },
  {
   "cell_type": "markdown",
   "metadata": {},
   "source": [
    "## Data Preprocessing"
   ]
  },
  {
   "cell_type": "code",
   "execution_count": 4,
   "metadata": {},
   "outputs": [
    {
     "data": {
      "application/javascript": [
       "\n",
       "            setTimeout(function() {\n",
       "                var nbb_cell_id = 4;\n",
       "                var nbb_unformatted_code = \"# select numerical columns\\nnum_cols = X_train.select_dtypes(include=[\\\"number\\\"]).columns.to_list()\\nnum_cols.remove(\\\"building_id\\\")\\n\\n\\ndef num_to_cat_list(df, num_col_list, n_unique_val):\\n    \\\"\\\"\\\"This function takes a pandas dataframe, a list of numerical columns\\n    and create a list of columns that needs to be converted to categorical column if\\n    it is less than or equal to n_unique_val.\\\"\\\"\\\"\\n\\n    # columns that needs to converted\\n    cols_to_convert = []\\n    for col in num_col_list:\\n        unique_val = df[col].nunique()\\n        if unique_val <= n_unique_val:\\n            cols_to_convert.append(col)\\n    return cols_to_convert\\n\\n\\na_list = num_to_cat_list(X_train, num_cols, 15)\\n# convert these columns to categorical\\nfor col in a_list:\\n    X_train[col] = X_train[col].astype(\\\"category\\\")\\n    X_test[col] = X_test[col].astype(\\\"category\\\")\\nnum_cols = X_train.select_dtypes(include=[\\\"number\\\"]).columns.to_list()\\nnum_cols.remove(\\\"building_id\\\")\\ncat_cols = X_train.select_dtypes(include=[\\\"object\\\", \\\"category\\\"]).columns.to_list()\\nfrom sklearn.pipeline import Pipeline\\nfrom sklearn.impute import SimpleImputer\\nfrom sklearn.preprocessing import StandardScaler\\nfrom sklearn.preprocessing import OneHotEncoder\\nfrom sklearn.compose import ColumnTransformer\\n\\n# Numerical columns pipeline\\nnum_pipeline = Pipeline(\\n    [\\n        (\\\"num_imputer\\\", SimpleImputer(strategy=\\\"median\\\")),\\n        (\\\"std_scaler\\\", StandardScaler()),\\n    ]\\n)\\n\\n# categorical columns pipeline\\ncat_pipeline = Pipeline(\\n    [\\n        (\\\"cat_imputer\\\", SimpleImputer(strategy=\\\"most_frequent\\\")),\\n        (\\\"one_hot_encoder\\\", OneHotEncoder(sparse=False, handle_unknown=\\\"ignore\\\")),\\n    ]\\n)\\n\\n# full pipeline\\nfull_pipeline = ColumnTransformer(\\n    [(\\\"num\\\", num_pipeline, num_cols), (\\\"cat\\\", cat_pipeline, cat_cols),]\\n)\\n\\n# fit and transform the data sets\\nX_train = full_pipeline.fit_transform(X_train)\\nX_test = full_pipeline.transform(X_test)\\n\\n# Get the list of categories generated by the one-hot-encoder\\nohe_categories = full_pipeline.named_transformers_[\\\"cat\\\"][\\\"one_hot_encoder\\\"].categories_\\n# Create nice names for our one hot encoded features\\nnew_ohe_features = [\\n    f\\\"{col}__{val}\\\" for col, vals in zip(cat_cols, ohe_categories) for val in vals\\n]\\n\\n# Create a new list with all names of features\\nall_features = num_cols + new_ohe_features\\n\\n# Create pandas dataframe\\nX_train = pd.DataFrame(X_train, columns=all_features)\\nX_test = pd.DataFrame(X_test, columns=all_features)\";\n",
       "                var nbb_formatted_code = \"# select numerical columns\\nnum_cols = X_train.select_dtypes(include=[\\\"number\\\"]).columns.to_list()\\nnum_cols.remove(\\\"building_id\\\")\\n\\n\\ndef num_to_cat_list(df, num_col_list, n_unique_val):\\n    \\\"\\\"\\\"This function takes a pandas dataframe, a list of numerical columns\\n    and create a list of columns that needs to be converted to categorical column if\\n    it is less than or equal to n_unique_val.\\\"\\\"\\\"\\n\\n    # columns that needs to converted\\n    cols_to_convert = []\\n    for col in num_col_list:\\n        unique_val = df[col].nunique()\\n        if unique_val <= n_unique_val:\\n            cols_to_convert.append(col)\\n    return cols_to_convert\\n\\n\\na_list = num_to_cat_list(X_train, num_cols, 15)\\n# convert these columns to categorical\\nfor col in a_list:\\n    X_train[col] = X_train[col].astype(\\\"category\\\")\\n    X_test[col] = X_test[col].astype(\\\"category\\\")\\nnum_cols = X_train.select_dtypes(include=[\\\"number\\\"]).columns.to_list()\\nnum_cols.remove(\\\"building_id\\\")\\ncat_cols = X_train.select_dtypes(include=[\\\"object\\\", \\\"category\\\"]).columns.to_list()\\nfrom sklearn.pipeline import Pipeline\\nfrom sklearn.impute import SimpleImputer\\nfrom sklearn.preprocessing import StandardScaler\\nfrom sklearn.preprocessing import OneHotEncoder\\nfrom sklearn.compose import ColumnTransformer\\n\\n# Numerical columns pipeline\\nnum_pipeline = Pipeline(\\n    [\\n        (\\\"num_imputer\\\", SimpleImputer(strategy=\\\"median\\\")),\\n        (\\\"std_scaler\\\", StandardScaler()),\\n    ]\\n)\\n\\n# categorical columns pipeline\\ncat_pipeline = Pipeline(\\n    [\\n        (\\\"cat_imputer\\\", SimpleImputer(strategy=\\\"most_frequent\\\")),\\n        (\\\"one_hot_encoder\\\", OneHotEncoder(sparse=False, handle_unknown=\\\"ignore\\\")),\\n    ]\\n)\\n\\n# full pipeline\\nfull_pipeline = ColumnTransformer(\\n    [(\\\"num\\\", num_pipeline, num_cols), (\\\"cat\\\", cat_pipeline, cat_cols),]\\n)\\n\\n# fit and transform the data sets\\nX_train = full_pipeline.fit_transform(X_train)\\nX_test = full_pipeline.transform(X_test)\\n\\n# Get the list of categories generated by the one-hot-encoder\\nohe_categories = full_pipeline.named_transformers_[\\\"cat\\\"][\\\"one_hot_encoder\\\"].categories_\\n# Create nice names for our one hot encoded features\\nnew_ohe_features = [\\n    f\\\"{col}__{val}\\\" for col, vals in zip(cat_cols, ohe_categories) for val in vals\\n]\\n\\n# Create a new list with all names of features\\nall_features = num_cols + new_ohe_features\\n\\n# Create pandas dataframe\\nX_train = pd.DataFrame(X_train, columns=all_features)\\nX_test = pd.DataFrame(X_test, columns=all_features)\";\n",
       "                var nbb_cells = Jupyter.notebook.get_cells();\n",
       "                for (var i = 0; i < nbb_cells.length; ++i) {\n",
       "                    if (nbb_cells[i].input_prompt_number == nbb_cell_id) {\n",
       "                        if (nbb_cells[i].get_text() == nbb_unformatted_code) {\n",
       "                             nbb_cells[i].set_text(nbb_formatted_code);\n",
       "                        }\n",
       "                        break;\n",
       "                    }\n",
       "                }\n",
       "            }, 500);\n",
       "            "
      ],
      "text/plain": [
       "<IPython.core.display.Javascript object>"
      ]
     },
     "metadata": {},
     "output_type": "display_data"
    }
   ],
   "source": [
    "# select numerical columns\n",
    "num_cols = X_train.select_dtypes(include=[\"number\"]).columns.to_list()\n",
    "num_cols.remove(\"building_id\")\n",
    "\n",
    "\n",
    "def num_to_cat_list(df, num_col_list, n_unique_val):\n",
    "    \"\"\"This function takes a pandas dataframe, a list of numerical columns\n",
    "    and create a list of columns that needs to be converted to categorical column if\n",
    "    it is less than or equal to n_unique_val.\"\"\"\n",
    "\n",
    "    # columns that needs to converted\n",
    "    cols_to_convert = []\n",
    "    for col in num_col_list:\n",
    "        unique_val = df[col].nunique()\n",
    "        if unique_val <= n_unique_val:\n",
    "            cols_to_convert.append(col)\n",
    "    return cols_to_convert\n",
    "\n",
    "\n",
    "a_list = num_to_cat_list(X_train, num_cols, 15)\n",
    "# convert these columns to categorical\n",
    "for col in a_list:\n",
    "    X_train[col] = X_train[col].astype(\"category\")\n",
    "    X_test[col] = X_test[col].astype(\"category\")\n",
    "num_cols = X_train.select_dtypes(include=[\"number\"]).columns.to_list()\n",
    "num_cols.remove(\"building_id\")\n",
    "cat_cols = X_train.select_dtypes(include=[\"object\", \"category\"]).columns.to_list()\n",
    "from sklearn.pipeline import Pipeline\n",
    "from sklearn.impute import SimpleImputer\n",
    "from sklearn.preprocessing import StandardScaler\n",
    "from sklearn.preprocessing import OneHotEncoder\n",
    "from sklearn.compose import ColumnTransformer\n",
    "\n",
    "# Numerical columns pipeline\n",
    "num_pipeline = Pipeline(\n",
    "    [\n",
    "        (\"num_imputer\", SimpleImputer(strategy=\"median\")),\n",
    "        (\"std_scaler\", StandardScaler()),\n",
    "    ]\n",
    ")\n",
    "\n",
    "# categorical columns pipeline\n",
    "cat_pipeline = Pipeline(\n",
    "    [\n",
    "        (\"cat_imputer\", SimpleImputer(strategy=\"most_frequent\")),\n",
    "        (\"one_hot_encoder\", OneHotEncoder(sparse=False, handle_unknown=\"ignore\")),\n",
    "    ]\n",
    ")\n",
    "\n",
    "# full pipeline\n",
    "full_pipeline = ColumnTransformer(\n",
    "    [(\"num\", num_pipeline, num_cols), (\"cat\", cat_pipeline, cat_cols),]\n",
    ")\n",
    "\n",
    "# fit and transform the data sets\n",
    "X_train = full_pipeline.fit_transform(X_train)\n",
    "X_test = full_pipeline.transform(X_test)\n",
    "\n",
    "# Get the list of categories generated by the one-hot-encoder\n",
    "ohe_categories = full_pipeline.named_transformers_[\"cat\"][\"one_hot_encoder\"].categories_\n",
    "# Create nice names for our one hot encoded features\n",
    "new_ohe_features = [\n",
    "    f\"{col}__{val}\" for col, vals in zip(cat_cols, ohe_categories) for val in vals\n",
    "]\n",
    "\n",
    "# Create a new list with all names of features\n",
    "all_features = num_cols + new_ohe_features\n",
    "\n",
    "# Create pandas dataframe\n",
    "X_train = pd.DataFrame(X_train, columns=all_features)\n",
    "X_test = pd.DataFrame(X_test, columns=all_features)"
   ]
  },
  {
   "cell_type": "code",
   "execution_count": 5,
   "metadata": {},
   "outputs": [
    {
     "data": {
      "text/plain": [
       "(260601, 107)"
      ]
     },
     "execution_count": 5,
     "metadata": {},
     "output_type": "execute_result"
    },
    {
     "data": {
      "application/javascript": [
       "\n",
       "            setTimeout(function() {\n",
       "                var nbb_cell_id = 5;\n",
       "                var nbb_unformatted_code = \"X_train.shape\";\n",
       "                var nbb_formatted_code = \"X_train.shape\";\n",
       "                var nbb_cells = Jupyter.notebook.get_cells();\n",
       "                for (var i = 0; i < nbb_cells.length; ++i) {\n",
       "                    if (nbb_cells[i].input_prompt_number == nbb_cell_id) {\n",
       "                        if (nbb_cells[i].get_text() == nbb_unformatted_code) {\n",
       "                             nbb_cells[i].set_text(nbb_formatted_code);\n",
       "                        }\n",
       "                        break;\n",
       "                    }\n",
       "                }\n",
       "            }, 500);\n",
       "            "
      ],
      "text/plain": [
       "<IPython.core.display.Javascript object>"
      ]
     },
     "metadata": {},
     "output_type": "display_data"
    }
   ],
   "source": [
    "X_train.shape"
   ]
  },
  {
   "cell_type": "code",
   "execution_count": 6,
   "metadata": {},
   "outputs": [
    {
     "data": {
      "text/plain": [
       "(86868, 107)"
      ]
     },
     "execution_count": 6,
     "metadata": {},
     "output_type": "execute_result"
    },
    {
     "data": {
      "application/javascript": [
       "\n",
       "            setTimeout(function() {\n",
       "                var nbb_cell_id = 6;\n",
       "                var nbb_unformatted_code = \"X_test.shape\";\n",
       "                var nbb_formatted_code = \"X_test.shape\";\n",
       "                var nbb_cells = Jupyter.notebook.get_cells();\n",
       "                for (var i = 0; i < nbb_cells.length; ++i) {\n",
       "                    if (nbb_cells[i].input_prompt_number == nbb_cell_id) {\n",
       "                        if (nbb_cells[i].get_text() == nbb_unformatted_code) {\n",
       "                             nbb_cells[i].set_text(nbb_formatted_code);\n",
       "                        }\n",
       "                        break;\n",
       "                    }\n",
       "                }\n",
       "            }, 500);\n",
       "            "
      ],
      "text/plain": [
       "<IPython.core.display.Javascript object>"
      ]
     },
     "metadata": {},
     "output_type": "display_data"
    }
   ],
   "source": [
    "X_test.shape"
   ]
  },
  {
   "cell_type": "code",
   "execution_count": 9,
   "metadata": {},
   "outputs": [
    {
     "data": {
      "application/javascript": [
       "\n",
       "            setTimeout(function() {\n",
       "                var nbb_cell_id = 9;\n",
       "                var nbb_unformatted_code = \"# # important features from the previous rf model\\n# df = load_data(\\\"X_train_imp.csv\\\")\\n# df.head()\";\n",
       "                var nbb_formatted_code = \"# # important features from the previous rf model\\n# df = load_data(\\\"X_train_imp.csv\\\")\\n# df.head()\";\n",
       "                var nbb_cells = Jupyter.notebook.get_cells();\n",
       "                for (var i = 0; i < nbb_cells.length; ++i) {\n",
       "                    if (nbb_cells[i].input_prompt_number == nbb_cell_id) {\n",
       "                        if (nbb_cells[i].get_text() == nbb_unformatted_code) {\n",
       "                             nbb_cells[i].set_text(nbb_formatted_code);\n",
       "                        }\n",
       "                        break;\n",
       "                    }\n",
       "                }\n",
       "            }, 500);\n",
       "            "
      ],
      "text/plain": [
       "<IPython.core.display.Javascript object>"
      ]
     },
     "metadata": {},
     "output_type": "display_data"
    }
   ],
   "source": [
    "# # important features from the previous rf model\n",
    "# df = load_data(\"X_train_imp.csv\")\n",
    "# df.head()"
   ]
  },
  {
   "cell_type": "code",
   "execution_count": 10,
   "metadata": {},
   "outputs": [
    {
     "data": {
      "application/javascript": [
       "\n",
       "            setTimeout(function() {\n",
       "                var nbb_cell_id = 10;\n",
       "                var nbb_unformatted_code = \"# df.columns.tolist()\";\n",
       "                var nbb_formatted_code = \"# df.columns.tolist()\";\n",
       "                var nbb_cells = Jupyter.notebook.get_cells();\n",
       "                for (var i = 0; i < nbb_cells.length; ++i) {\n",
       "                    if (nbb_cells[i].input_prompt_number == nbb_cell_id) {\n",
       "                        if (nbb_cells[i].get_text() == nbb_unformatted_code) {\n",
       "                             nbb_cells[i].set_text(nbb_formatted_code);\n",
       "                        }\n",
       "                        break;\n",
       "                    }\n",
       "                }\n",
       "            }, 500);\n",
       "            "
      ],
      "text/plain": [
       "<IPython.core.display.Javascript object>"
      ]
     },
     "metadata": {},
     "output_type": "display_data"
    }
   ],
   "source": [
    "# df.columns.tolist()"
   ]
  },
  {
   "cell_type": "code",
   "execution_count": 11,
   "metadata": {},
   "outputs": [
    {
     "data": {
      "application/javascript": [
       "\n",
       "            setTimeout(function() {\n",
       "                var nbb_cell_id = 11;\n",
       "                var nbb_unformatted_code = \"# # only select the important features\\n# X_train_rf_imp = X_train[df.columns.tolist()]\\n# X_test_rf_imp = X_test[df.columns.tolist()]\";\n",
       "                var nbb_formatted_code = \"# # only select the important features\\n# X_train_rf_imp = X_train[df.columns.tolist()]\\n# X_test_rf_imp = X_test[df.columns.tolist()]\";\n",
       "                var nbb_cells = Jupyter.notebook.get_cells();\n",
       "                for (var i = 0; i < nbb_cells.length; ++i) {\n",
       "                    if (nbb_cells[i].input_prompt_number == nbb_cell_id) {\n",
       "                        if (nbb_cells[i].get_text() == nbb_unformatted_code) {\n",
       "                             nbb_cells[i].set_text(nbb_formatted_code);\n",
       "                        }\n",
       "                        break;\n",
       "                    }\n",
       "                }\n",
       "            }, 500);\n",
       "            "
      ],
      "text/plain": [
       "<IPython.core.display.Javascript object>"
      ]
     },
     "metadata": {},
     "output_type": "display_data"
    }
   ],
   "source": [
    "# # only select the important features\n",
    "# X_train_rf_imp = X_train[df.columns.tolist()]\n",
    "# X_test_rf_imp = X_test[df.columns.tolist()]"
   ]
  },
  {
   "cell_type": "markdown",
   "metadata": {},
   "source": [
    "## Gradient Boosting"
   ]
  },
  {
   "cell_type": "code",
   "execution_count": 12,
   "metadata": {},
   "outputs": [
    {
     "data": {
      "text/plain": [
       "0.6548378719083751"
      ]
     },
     "execution_count": 12,
     "metadata": {},
     "output_type": "execute_result"
    },
    {
     "data": {
      "application/javascript": [
       "\n",
       "            setTimeout(function() {\n",
       "                var nbb_cell_id = 12;\n",
       "                var nbb_unformatted_code = \"from xgboost import XGBClassifier\\nfrom sklearn.metrics import balanced_accuracy_score\\nxgb = XGBClassifier()\\nxgb.fit(X_train, y_train)\\nxgb_pred = xgb.predict(X_train)\\nbalanced_accuracy_score(y_train, xgb_pred)\";\n",
       "                var nbb_formatted_code = \"from xgboost import XGBClassifier\\nfrom sklearn.metrics import balanced_accuracy_score\\n\\nxgb = XGBClassifier()\\nxgb.fit(X_train, y_train)\\nxgb_pred = xgb.predict(X_train)\\nbalanced_accuracy_score(y_train, xgb_pred)\";\n",
       "                var nbb_cells = Jupyter.notebook.get_cells();\n",
       "                for (var i = 0; i < nbb_cells.length; ++i) {\n",
       "                    if (nbb_cells[i].input_prompt_number == nbb_cell_id) {\n",
       "                        if (nbb_cells[i].get_text() == nbb_unformatted_code) {\n",
       "                             nbb_cells[i].set_text(nbb_formatted_code);\n",
       "                        }\n",
       "                        break;\n",
       "                    }\n",
       "                }\n",
       "            }, 500);\n",
       "            "
      ],
      "text/plain": [
       "<IPython.core.display.Javascript object>"
      ]
     },
     "metadata": {},
     "output_type": "display_data"
    }
   ],
   "source": [
    "from xgboost import XGBClassifier\n",
    "from sklearn.metrics import balanced_accuracy_score\n",
    "xgb = XGBClassifier()\n",
    "xgb.fit(X_train, y_train)\n",
    "xgb_pred = xgb.predict(X_train)\n",
    "balanced_accuracy_score(y_train, xgb_pred)"
   ]
  },
  {
   "cell_type": "code",
   "execution_count": 13,
   "metadata": {},
   "outputs": [
    {
     "data": {
      "text/plain": [
       "0.6192738996069512"
      ]
     },
     "execution_count": 13,
     "metadata": {},
     "output_type": "execute_result"
    },
    {
     "data": {
      "application/javascript": [
       "\n",
       "            setTimeout(function() {\n",
       "                var nbb_cell_id = 13;\n",
       "                var nbb_unformatted_code = \"from lightgbm import LGBMClassifier\\nlgbm = LGBMClassifier()\\nlgbm.fit(X_train, y_train)\\nlgbm_pred = lgbm.predict(X_train)\\nbalanced_accuracy_score(y_train, lgbm_pred)\";\n",
       "                var nbb_formatted_code = \"from lightgbm import LGBMClassifier\\n\\nlgbm = LGBMClassifier()\\nlgbm.fit(X_train, y_train)\\nlgbm_pred = lgbm.predict(X_train)\\nbalanced_accuracy_score(y_train, lgbm_pred)\";\n",
       "                var nbb_cells = Jupyter.notebook.get_cells();\n",
       "                for (var i = 0; i < nbb_cells.length; ++i) {\n",
       "                    if (nbb_cells[i].input_prompt_number == nbb_cell_id) {\n",
       "                        if (nbb_cells[i].get_text() == nbb_unformatted_code) {\n",
       "                             nbb_cells[i].set_text(nbb_formatted_code);\n",
       "                        }\n",
       "                        break;\n",
       "                    }\n",
       "                }\n",
       "            }, 500);\n",
       "            "
      ],
      "text/plain": [
       "<IPython.core.display.Javascript object>"
      ]
     },
     "metadata": {},
     "output_type": "display_data"
    }
   ],
   "source": [
    "from lightgbm import LGBMClassifier\n",
    "lgbm = LGBMClassifier()\n",
    "lgbm.fit(X_train, y_train)\n",
    "lgbm_pred = lgbm.predict(X_train)\n",
    "balanced_accuracy_score(y_train, lgbm_pred)"
   ]
  },
  {
   "cell_type": "code",
   "execution_count": 14,
   "metadata": {},
   "outputs": [
    {
     "data": {
      "text/plain": [
       "array([0.72703098, 0.7303579 , 0.72788286])"
      ]
     },
     "execution_count": 14,
     "metadata": {},
     "output_type": "execute_result"
    },
    {
     "data": {
      "application/javascript": [
       "\n",
       "            setTimeout(function() {\n",
       "                var nbb_cell_id = 14;\n",
       "                var nbb_unformatted_code = \"# cross-validation\\nfrom sklearn.model_selection import cross_val_score\\nxgb = XGBClassifier()\\nscores = cross_val_score(xgb, X_train, y_train, cv=3, scoring=\\\"accuracy\\\")\\nscores\";\n",
       "                var nbb_formatted_code = \"# cross-validation\\nfrom sklearn.model_selection import cross_val_score\\n\\nxgb = XGBClassifier()\\nscores = cross_val_score(xgb, X_train, y_train, cv=3, scoring=\\\"accuracy\\\")\\nscores\";\n",
       "                var nbb_cells = Jupyter.notebook.get_cells();\n",
       "                for (var i = 0; i < nbb_cells.length; ++i) {\n",
       "                    if (nbb_cells[i].input_prompt_number == nbb_cell_id) {\n",
       "                        if (nbb_cells[i].get_text() == nbb_unformatted_code) {\n",
       "                             nbb_cells[i].set_text(nbb_formatted_code);\n",
       "                        }\n",
       "                        break;\n",
       "                    }\n",
       "                }\n",
       "            }, 500);\n",
       "            "
      ],
      "text/plain": [
       "<IPython.core.display.Javascript object>"
      ]
     },
     "metadata": {},
     "output_type": "display_data"
    }
   ],
   "source": [
    "# cross-validation\n",
    "from sklearn.model_selection import cross_val_score\n",
    "xgb = XGBClassifier()\n",
    "scores = cross_val_score(xgb, X_train, y_train, cv=3, scoring=\"accuracy\")\n",
    "scores"
   ]
  },
  {
   "cell_type": "markdown",
   "metadata": {},
   "source": [
    "### Make a submission"
   ]
  },
  {
   "cell_type": "code",
   "execution_count": 15,
   "metadata": {},
   "outputs": [
    {
     "data": {
      "application/javascript": [
       "\n",
       "            setTimeout(function() {\n",
       "                var nbb_cell_id = 15;\n",
       "                var nbb_unformatted_code = \"xgb = XGBClassifier()\\nxgb.fit(X_train, y_train)\\nxgb_pred_test = xgb.predict(X_test)\\nsubmission_format['damage_grade'] = xgb_pred_test\\nsave_dataframe(submission_format, \\\"xgb_basic_sub.csv\\\")\";\n",
       "                var nbb_formatted_code = \"xgb = XGBClassifier()\\nxgb.fit(X_train, y_train)\\nxgb_pred_test = xgb.predict(X_test)\\nsubmission_format[\\\"damage_grade\\\"] = xgb_pred_test\\nsave_dataframe(submission_format, \\\"xgb_basic_sub.csv\\\")\";\n",
       "                var nbb_cells = Jupyter.notebook.get_cells();\n",
       "                for (var i = 0; i < nbb_cells.length; ++i) {\n",
       "                    if (nbb_cells[i].input_prompt_number == nbb_cell_id) {\n",
       "                        if (nbb_cells[i].get_text() == nbb_unformatted_code) {\n",
       "                             nbb_cells[i].set_text(nbb_formatted_code);\n",
       "                        }\n",
       "                        break;\n",
       "                    }\n",
       "                }\n",
       "            }, 500);\n",
       "            "
      ],
      "text/plain": [
       "<IPython.core.display.Javascript object>"
      ]
     },
     "metadata": {},
     "output_type": "display_data"
    }
   ],
   "source": [
    "xgb = XGBClassifier()\n",
    "xgb.fit(X_train, y_train)\n",
    "xgb_pred_test = xgb.predict(X_test)\n",
    "submission_format['damage_grade'] = xgb_pred_test\n",
    "save_dataframe(submission_format, \"xgb_basic_sub.csv\")"
   ]
  },
  {
   "cell_type": "markdown",
   "metadata": {},
   "source": [
    "So without doing any hyper parameter tunning, xgb model beats all the previous models and gets a accuracy of 72%. Let's also test the lightgbm library. "
   ]
  },
  {
   "cell_type": "code",
   "execution_count": 16,
   "metadata": {},
   "outputs": [
    {
     "data": {
      "application/javascript": [
       "\n",
       "            setTimeout(function() {\n",
       "                var nbb_cell_id = 16;\n",
       "                var nbb_unformatted_code = \"lgbm = LGBMClassifier()\\nlgbm.fit(X_train, y_train)\\nlgbm_pred_test = lgbm.predict(X_test)\\nsubmission_format['damage_grade'] = lgbm_pred_test\\nsave_dataframe(submission_format, \\\"lgbm_basic_sub.csv\\\")\";\n",
       "                var nbb_formatted_code = \"lgbm = LGBMClassifier()\\nlgbm.fit(X_train, y_train)\\nlgbm_pred_test = lgbm.predict(X_test)\\nsubmission_format[\\\"damage_grade\\\"] = lgbm_pred_test\\nsave_dataframe(submission_format, \\\"lgbm_basic_sub.csv\\\")\";\n",
       "                var nbb_cells = Jupyter.notebook.get_cells();\n",
       "                for (var i = 0; i < nbb_cells.length; ++i) {\n",
       "                    if (nbb_cells[i].input_prompt_number == nbb_cell_id) {\n",
       "                        if (nbb_cells[i].get_text() == nbb_unformatted_code) {\n",
       "                             nbb_cells[i].set_text(nbb_formatted_code);\n",
       "                        }\n",
       "                        break;\n",
       "                    }\n",
       "                }\n",
       "            }, 500);\n",
       "            "
      ],
      "text/plain": [
       "<IPython.core.display.Javascript object>"
      ]
     },
     "metadata": {},
     "output_type": "display_data"
    }
   ],
   "source": [
    "lgbm = LGBMClassifier()\n",
    "lgbm.fit(X_train, y_train)\n",
    "lgbm_pred_test = lgbm.predict(X_test)\n",
    "submission_format['damage_grade'] = lgbm_pred_test\n",
    "save_dataframe(submission_format, \"lgbm_basic_sub.csv\")"
   ]
  },
  {
   "cell_type": "markdown",
   "metadata": {},
   "source": [
    "This lgbm model also performed well and has a accuracy of more than 71%.  "
   ]
  },
  {
   "cell_type": "markdown",
   "metadata": {},
   "source": [
    "Another great thing about these models is that they are not overfitting the data as compared to decision tree and random forest models. The performanec on the test\n",
    "set is higher than the performance on the training set. "
   ]
  },
  {
   "cell_type": "markdown",
   "metadata": {},
   "source": [
    "### Hyperparameter Optimization"
   ]
  },
  {
   "cell_type": "code",
   "execution_count": 21,
   "metadata": {},
   "outputs": [
    {
     "data": {
      "application/javascript": [
       "\n",
       "            setTimeout(function() {\n",
       "                var nbb_cell_id = 21;\n",
       "                var nbb_unformatted_code = \"from sklearn.model_selection import GridSearchCV\";\n",
       "                var nbb_formatted_code = \"from sklearn.model_selection import GridSearchCV\";\n",
       "                var nbb_cells = Jupyter.notebook.get_cells();\n",
       "                for (var i = 0; i < nbb_cells.length; ++i) {\n",
       "                    if (nbb_cells[i].input_prompt_number == nbb_cell_id) {\n",
       "                        if (nbb_cells[i].get_text() == nbb_unformatted_code) {\n",
       "                             nbb_cells[i].set_text(nbb_formatted_code);\n",
       "                        }\n",
       "                        break;\n",
       "                    }\n",
       "                }\n",
       "            }, 500);\n",
       "            "
      ],
      "text/plain": [
       "<IPython.core.display.Javascript object>"
      ]
     },
     "metadata": {},
     "output_type": "display_data"
    }
   ],
   "source": [
    "from sklearn.model_selection import GridSearchCV"
   ]
  },
  {
   "cell_type": "code",
   "execution_count": 22,
   "metadata": {},
   "outputs": [
    {
     "data": {
      "text/plain": [
       "GridSearchCV(cv=3,\n",
       "             estimator=XGBClassifier(base_score=None, booster=None,\n",
       "                                     colsample_bylevel=None,\n",
       "                                     colsample_bynode=None,\n",
       "                                     colsample_bytree=None, gamma=None,\n",
       "                                     gpu_id=None, importance_type='gain',\n",
       "                                     interaction_constraints=None,\n",
       "                                     learning_rate=None, max_delta_step=None,\n",
       "                                     max_depth=None, min_child_weight=None,\n",
       "                                     missing=nan, monotone_constraints=None,\n",
       "                                     n_estimators=100, n_jobs=None,\n",
       "                                     num_parallel_tree=None, random_state=42,\n",
       "                                     reg_alpha=None, reg_lambda=None,\n",
       "                                     scale_pos_weight=None, subsample=None,\n",
       "                                     tree_method=None, validate_parameters=None,\n",
       "                                     verbosity=None),\n",
       "             param_grid={'learning_rate': [0.2, 0.1, 0.05, 0.02, 0.01, 0.001],\n",
       "                         'max_depth': array([1, 2, 3, 4, 5, 6, 7, 8, 9])},\n",
       "             return_train_score=True, scoring='accuracy')"
      ]
     },
     "execution_count": 22,
     "metadata": {},
     "output_type": "execute_result"
    },
    {
     "data": {
      "application/javascript": [
       "\n",
       "            setTimeout(function() {\n",
       "                var nbb_cell_id = 22;\n",
       "                var nbb_unformatted_code = \"param_grid = {\\\"learning_rate\\\": [.2, .1, .05, .02, .01, .001],\\n             \\\"max_depth\\\": np.arange(1,10)}\\nxgb = XGBClassifier(random_state=42)\\ngrid_search_xgb = GridSearchCV(xgb, param_grid=param_grid, cv=3, scoring=\\\"accuracy\\\", return_train_score=True)\\ngrid_search_xgb.fit(X_train, y_train)\";\n",
       "                var nbb_formatted_code = \"param_grid = {\\n    \\\"learning_rate\\\": [0.2, 0.1, 0.05, 0.02, 0.01, 0.001],\\n    \\\"max_depth\\\": np.arange(1, 10),\\n}\\nxgb = XGBClassifier(random_state=42)\\ngrid_search_xgb = GridSearchCV(\\n    xgb, param_grid=param_grid, cv=3, scoring=\\\"accuracy\\\", return_train_score=True\\n)\\ngrid_search_xgb.fit(X_train, y_train)\";\n",
       "                var nbb_cells = Jupyter.notebook.get_cells();\n",
       "                for (var i = 0; i < nbb_cells.length; ++i) {\n",
       "                    if (nbb_cells[i].input_prompt_number == nbb_cell_id) {\n",
       "                        if (nbb_cells[i].get_text() == nbb_unformatted_code) {\n",
       "                             nbb_cells[i].set_text(nbb_formatted_code);\n",
       "                        }\n",
       "                        break;\n",
       "                    }\n",
       "                }\n",
       "            }, 500);\n",
       "            "
      ],
      "text/plain": [
       "<IPython.core.display.Javascript object>"
      ]
     },
     "metadata": {},
     "output_type": "display_data"
    }
   ],
   "source": [
    "param_grid = {\"learning_rate\": [.2, .1, .05, .02, .01, .001],\n",
    "             \"max_depth\": np.arange(1,10)}\n",
    "xgb = XGBClassifier(random_state=42)\n",
    "grid_search_xgb = GridSearchCV(xgb, param_grid=param_grid, cv=3, scoring=\"accuracy\", return_train_score=True)\n",
    "grid_search_xgb.fit(X_train, y_train)"
   ]
  },
  {
   "cell_type": "code",
   "execution_count": 23,
   "metadata": {},
   "outputs": [
    {
     "data": {
      "text/plain": [
       "0.7357799854950672"
      ]
     },
     "execution_count": 23,
     "metadata": {},
     "output_type": "execute_result"
    },
    {
     "data": {
      "application/javascript": [
       "\n",
       "            setTimeout(function() {\n",
       "                var nbb_cell_id = 23;\n",
       "                var nbb_unformatted_code = \"grid_search_xgb.best_score_\";\n",
       "                var nbb_formatted_code = \"grid_search_xgb.best_score_\";\n",
       "                var nbb_cells = Jupyter.notebook.get_cells();\n",
       "                for (var i = 0; i < nbb_cells.length; ++i) {\n",
       "                    if (nbb_cells[i].input_prompt_number == nbb_cell_id) {\n",
       "                        if (nbb_cells[i].get_text() == nbb_unformatted_code) {\n",
       "                             nbb_cells[i].set_text(nbb_formatted_code);\n",
       "                        }\n",
       "                        break;\n",
       "                    }\n",
       "                }\n",
       "            }, 500);\n",
       "            "
      ],
      "text/plain": [
       "<IPython.core.display.Javascript object>"
      ]
     },
     "metadata": {},
     "output_type": "display_data"
    }
   ],
   "source": [
    "grid_search_xgb.best_score_"
   ]
  },
  {
   "cell_type": "code",
   "execution_count": 24,
   "metadata": {},
   "outputs": [
    {
     "data": {
      "text/plain": [
       "{'learning_rate': 0.2, 'max_depth': 9}"
      ]
     },
     "execution_count": 24,
     "metadata": {},
     "output_type": "execute_result"
    },
    {
     "data": {
      "application/javascript": [
       "\n",
       "            setTimeout(function() {\n",
       "                var nbb_cell_id = 24;\n",
       "                var nbb_unformatted_code = \"grid_search_xgb.best_params_\";\n",
       "                var nbb_formatted_code = \"grid_search_xgb.best_params_\";\n",
       "                var nbb_cells = Jupyter.notebook.get_cells();\n",
       "                for (var i = 0; i < nbb_cells.length; ++i) {\n",
       "                    if (nbb_cells[i].input_prompt_number == nbb_cell_id) {\n",
       "                        if (nbb_cells[i].get_text() == nbb_unformatted_code) {\n",
       "                             nbb_cells[i].set_text(nbb_formatted_code);\n",
       "                        }\n",
       "                        break;\n",
       "                    }\n",
       "                }\n",
       "            }, 500);\n",
       "            "
      ],
      "text/plain": [
       "<IPython.core.display.Javascript object>"
      ]
     },
     "metadata": {},
     "output_type": "display_data"
    }
   ],
   "source": [
    "grid_search_xgb.best_params_"
   ]
  },
  {
   "cell_type": "code",
   "execution_count": 25,
   "metadata": {},
   "outputs": [
    {
     "data": {
      "text/html": [
       "<div>\n",
       "<style scoped>\n",
       "    .dataframe tbody tr th:only-of-type {\n",
       "        vertical-align: middle;\n",
       "    }\n",
       "\n",
       "    .dataframe tbody tr th {\n",
       "        vertical-align: top;\n",
       "    }\n",
       "\n",
       "    .dataframe thead th {\n",
       "        text-align: right;\n",
       "    }\n",
       "</style>\n",
       "<table border=\"1\" class=\"dataframe\">\n",
       "  <thead>\n",
       "    <tr style=\"text-align: right;\">\n",
       "      <th></th>\n",
       "      <th>mean_fit_time</th>\n",
       "      <th>std_fit_time</th>\n",
       "      <th>mean_score_time</th>\n",
       "      <th>std_score_time</th>\n",
       "      <th>param_learning_rate</th>\n",
       "      <th>param_max_depth</th>\n",
       "      <th>params</th>\n",
       "      <th>split0_test_score</th>\n",
       "      <th>split1_test_score</th>\n",
       "      <th>split2_test_score</th>\n",
       "      <th>mean_test_score</th>\n",
       "      <th>std_test_score</th>\n",
       "      <th>rank_test_score</th>\n",
       "      <th>split0_train_score</th>\n",
       "      <th>split1_train_score</th>\n",
       "      <th>split2_train_score</th>\n",
       "      <th>mean_train_score</th>\n",
       "      <th>std_train_score</th>\n",
       "    </tr>\n",
       "  </thead>\n",
       "  <tbody>\n",
       "    <tr>\n",
       "      <th>0</th>\n",
       "      <td>42.279112</td>\n",
       "      <td>0.755438</td>\n",
       "      <td>0.475378</td>\n",
       "      <td>0.031850</td>\n",
       "      <td>0.2</td>\n",
       "      <td>1</td>\n",
       "      <td>{'learning_rate': 0.2, 'max_depth': 1}</td>\n",
       "      <td>0.638620</td>\n",
       "      <td>0.639265</td>\n",
       "      <td>0.639080</td>\n",
       "      <td>0.638988</td>\n",
       "      <td>0.000271</td>\n",
       "      <td>43</td>\n",
       "      <td>0.639426</td>\n",
       "      <td>0.638735</td>\n",
       "      <td>0.638620</td>\n",
       "      <td>0.638927</td>\n",
       "      <td>0.000356</td>\n",
       "    </tr>\n",
       "    <tr>\n",
       "      <th>1</th>\n",
       "      <td>71.882827</td>\n",
       "      <td>0.534868</td>\n",
       "      <td>0.554775</td>\n",
       "      <td>0.018517</td>\n",
       "      <td>0.2</td>\n",
       "      <td>2</td>\n",
       "      <td>{'learning_rate': 0.2, 'max_depth': 2}</td>\n",
       "      <td>0.671682</td>\n",
       "      <td>0.673904</td>\n",
       "      <td>0.674053</td>\n",
       "      <td>0.673213</td>\n",
       "      <td>0.001084</td>\n",
       "      <td>29</td>\n",
       "      <td>0.673466</td>\n",
       "      <td>0.675009</td>\n",
       "      <td>0.673604</td>\n",
       "      <td>0.674027</td>\n",
       "      <td>0.000697</td>\n",
       "    </tr>\n",
       "    <tr>\n",
       "      <th>2</th>\n",
       "      <td>123.967854</td>\n",
       "      <td>25.586348</td>\n",
       "      <td>0.833773</td>\n",
       "      <td>0.139809</td>\n",
       "      <td>0.2</td>\n",
       "      <td>3</td>\n",
       "      <td>{'learning_rate': 0.2, 'max_depth': 3}</td>\n",
       "      <td>0.685922</td>\n",
       "      <td>0.687960</td>\n",
       "      <td>0.689537</td>\n",
       "      <td>0.687806</td>\n",
       "      <td>0.001480</td>\n",
       "      <td>20</td>\n",
       "      <td>0.690055</td>\n",
       "      <td>0.688835</td>\n",
       "      <td>0.689623</td>\n",
       "      <td>0.689504</td>\n",
       "      <td>0.000505</td>\n",
       "    </tr>\n",
       "    <tr>\n",
       "      <th>3</th>\n",
       "      <td>188.655835</td>\n",
       "      <td>7.762195</td>\n",
       "      <td>1.117910</td>\n",
       "      <td>0.137830</td>\n",
       "      <td>0.2</td>\n",
       "      <td>4</td>\n",
       "      <td>{'learning_rate': 0.2, 'max_depth': 4}</td>\n",
       "      <td>0.699000</td>\n",
       "      <td>0.699529</td>\n",
       "      <td>0.700646</td>\n",
       "      <td>0.699725</td>\n",
       "      <td>0.000686</td>\n",
       "      <td>13</td>\n",
       "      <td>0.704825</td>\n",
       "      <td>0.703046</td>\n",
       "      <td>0.704681</td>\n",
       "      <td>0.704184</td>\n",
       "      <td>0.000807</td>\n",
       "    </tr>\n",
       "    <tr>\n",
       "      <th>4</th>\n",
       "      <td>231.427380</td>\n",
       "      <td>3.668417</td>\n",
       "      <td>1.293705</td>\n",
       "      <td>0.048553</td>\n",
       "      <td>0.2</td>\n",
       "      <td>5</td>\n",
       "      <td>{'learning_rate': 0.2, 'max_depth': 5}</td>\n",
       "      <td>0.710086</td>\n",
       "      <td>0.710293</td>\n",
       "      <td>0.710454</td>\n",
       "      <td>0.710277</td>\n",
       "      <td>0.000151</td>\n",
       "      <td>8</td>\n",
       "      <td>0.720274</td>\n",
       "      <td>0.718253</td>\n",
       "      <td>0.718622</td>\n",
       "      <td>0.719049</td>\n",
       "      <td>0.000879</td>\n",
       "    </tr>\n",
       "  </tbody>\n",
       "</table>\n",
       "</div>"
      ],
      "text/plain": [
       "   mean_fit_time  std_fit_time  mean_score_time  std_score_time  \\\n",
       "0      42.279112      0.755438         0.475378        0.031850   \n",
       "1      71.882827      0.534868         0.554775        0.018517   \n",
       "2     123.967854     25.586348         0.833773        0.139809   \n",
       "3     188.655835      7.762195         1.117910        0.137830   \n",
       "4     231.427380      3.668417         1.293705        0.048553   \n",
       "\n",
       "  param_learning_rate param_max_depth                                  params  \\\n",
       "0                 0.2               1  {'learning_rate': 0.2, 'max_depth': 1}   \n",
       "1                 0.2               2  {'learning_rate': 0.2, 'max_depth': 2}   \n",
       "2                 0.2               3  {'learning_rate': 0.2, 'max_depth': 3}   \n",
       "3                 0.2               4  {'learning_rate': 0.2, 'max_depth': 4}   \n",
       "4                 0.2               5  {'learning_rate': 0.2, 'max_depth': 5}   \n",
       "\n",
       "   split0_test_score  split1_test_score  split2_test_score  mean_test_score  \\\n",
       "0           0.638620           0.639265           0.639080         0.638988   \n",
       "1           0.671682           0.673904           0.674053         0.673213   \n",
       "2           0.685922           0.687960           0.689537         0.687806   \n",
       "3           0.699000           0.699529           0.700646         0.699725   \n",
       "4           0.710086           0.710293           0.710454         0.710277   \n",
       "\n",
       "   std_test_score  rank_test_score  split0_train_score  split1_train_score  \\\n",
       "0        0.000271               43            0.639426            0.638735   \n",
       "1        0.001084               29            0.673466            0.675009   \n",
       "2        0.001480               20            0.690055            0.688835   \n",
       "3        0.000686               13            0.704825            0.703046   \n",
       "4        0.000151                8            0.720274            0.718253   \n",
       "\n",
       "   split2_train_score  mean_train_score  std_train_score  \n",
       "0            0.638620          0.638927         0.000356  \n",
       "1            0.673604          0.674027         0.000697  \n",
       "2            0.689623          0.689504         0.000505  \n",
       "3            0.704681          0.704184         0.000807  \n",
       "4            0.718622          0.719049         0.000879  "
      ]
     },
     "execution_count": 25,
     "metadata": {},
     "output_type": "execute_result"
    },
    {
     "data": {
      "application/javascript": [
       "\n",
       "            setTimeout(function() {\n",
       "                var nbb_cell_id = 25;\n",
       "                var nbb_unformatted_code = \"results = pd.DataFrame(grid_search_xgb.cv_results_)\\nresults.head()\";\n",
       "                var nbb_formatted_code = \"results = pd.DataFrame(grid_search_xgb.cv_results_)\\nresults.head()\";\n",
       "                var nbb_cells = Jupyter.notebook.get_cells();\n",
       "                for (var i = 0; i < nbb_cells.length; ++i) {\n",
       "                    if (nbb_cells[i].input_prompt_number == nbb_cell_id) {\n",
       "                        if (nbb_cells[i].get_text() == nbb_unformatted_code) {\n",
       "                             nbb_cells[i].set_text(nbb_formatted_code);\n",
       "                        }\n",
       "                        break;\n",
       "                    }\n",
       "                }\n",
       "            }, 500);\n",
       "            "
      ],
      "text/plain": [
       "<IPython.core.display.Javascript object>"
      ]
     },
     "metadata": {},
     "output_type": "display_data"
    }
   ],
   "source": [
    "results = pd.DataFrame(grid_search_xgb.cv_results_)\n",
    "results.head()"
   ]
  },
  {
   "cell_type": "code",
   "execution_count": 35,
   "metadata": {},
   "outputs": [
    {
     "data": {
      "image/png": "[encoded data removed]",
      "text/plain": [
       "<Figure size 432x288 with 2 Axes>"
      ]
     },
     "metadata": {
      "needs_background": "light"
     },
     "output_type": "display_data"
    },
    {
     "data": {
      "application/javascript": [
       "\n",
       "            setTimeout(function() {\n",
       "                var nbb_cell_id = 35;\n",
       "                var nbb_unformatted_code = \"sns.heatmap(pd.pivot_table(results, index='param_max_depth', columns='param_learning_rate', values='mean_test_score'));\";\n",
       "                var nbb_formatted_code = \"sns.heatmap(\\n    pd.pivot_table(\\n        results,\\n        index=\\\"param_max_depth\\\",\\n        columns=\\\"param_learning_rate\\\",\\n        values=\\\"mean_test_score\\\",\\n    )\\n)\";\n",
       "                var nbb_cells = Jupyter.notebook.get_cells();\n",
       "                for (var i = 0; i < nbb_cells.length; ++i) {\n",
       "                    if (nbb_cells[i].input_prompt_number == nbb_cell_id) {\n",
       "                        if (nbb_cells[i].get_text() == nbb_unformatted_code) {\n",
       "                             nbb_cells[i].set_text(nbb_formatted_code);\n",
       "                        }\n",
       "                        break;\n",
       "                    }\n",
       "                }\n",
       "            }, 500);\n",
       "            "
      ],
      "text/plain": [
       "<IPython.core.display.Javascript object>"
      ]
     },
     "metadata": {},
     "output_type": "display_data"
    }
   ],
   "source": [
    "sns.heatmap(pd.pivot_table(results, index='param_max_depth', columns='param_learning_rate', values='mean_test_score'));"
   ]
  },
  {
   "cell_type": "markdown",
   "metadata": {},
   "source": [
    "Looking at the heatmap, it feels like we can improve the results further if we increase the max depth and learning rate beyond 9 and 0.2 respectively. \n",
    "But Let's make one submission then we will do that. "
   ]
  },
  {
   "cell_type": "code",
   "execution_count": 36,
   "metadata": {},
   "outputs": [
    {
     "data": {
      "application/javascript": [
       "\n",
       "            setTimeout(function() {\n",
       "                var nbb_cell_id = 36;\n",
       "                var nbb_unformatted_code = \"xgb_hyper1_pred = grid_search_xgb.best_estimator_.predict(X_test)\\nsubmission_format['damage_grade'] = xgb_hyper1_pred\\nsave_dataframe(submission_format, \\\"xgb_hyper1.csv\\\")\";\n",
       "                var nbb_formatted_code = \"xgb_hyper1_pred = grid_search_xgb.best_estimator_.predict(X_test)\\nsubmission_format[\\\"damage_grade\\\"] = xgb_hyper1_pred\\nsave_dataframe(submission_format, \\\"xgb_hyper1.csv\\\")\";\n",
       "                var nbb_cells = Jupyter.notebook.get_cells();\n",
       "                for (var i = 0; i < nbb_cells.length; ++i) {\n",
       "                    if (nbb_cells[i].input_prompt_number == nbb_cell_id) {\n",
       "                        if (nbb_cells[i].get_text() == nbb_unformatted_code) {\n",
       "                             nbb_cells[i].set_text(nbb_formatted_code);\n",
       "                        }\n",
       "                        break;\n",
       "                    }\n",
       "                }\n",
       "            }, 500);\n",
       "            "
      ],
      "text/plain": [
       "<IPython.core.display.Javascript object>"
      ]
     },
     "metadata": {},
     "output_type": "display_data"
    }
   ],
   "source": [
    "xgb_hyper1_pred = grid_search_xgb.best_estimator_.predict(X_test)\n",
    "submission_format['damage_grade'] = xgb_hyper1_pred\n",
    "save_dataframe(submission_format, \"xgb_hyper1.csv\")"
   ]
  },
  {
   "cell_type": "code",
   "execution_count": 45,
   "metadata": {},
   "outputs": [
    {
     "data": {
      "application/javascript": [
       "\n",
       "            setTimeout(function() {\n",
       "                var nbb_cell_id = 45;\n",
       "                var nbb_unformatted_code = \"from xgboost import plot_importance\";\n",
       "                var nbb_formatted_code = \"from xgboost import plot_importance\";\n",
       "                var nbb_cells = Jupyter.notebook.get_cells();\n",
       "                for (var i = 0; i < nbb_cells.length; ++i) {\n",
       "                    if (nbb_cells[i].input_prompt_number == nbb_cell_id) {\n",
       "                        if (nbb_cells[i].get_text() == nbb_unformatted_code) {\n",
       "                             nbb_cells[i].set_text(nbb_formatted_code);\n",
       "                        }\n",
       "                        break;\n",
       "                    }\n",
       "                }\n",
       "            }, 500);\n",
       "            "
      ],
      "text/plain": [
       "<IPython.core.display.Javascript object>"
      ]
     },
     "metadata": {},
     "output_type": "display_data"
    }
   ],
   "source": [
    "from xgboost import plot_importance"
   ]
  },
  {
   "cell_type": "code",
   "execution_count": 47,
   "metadata": {},
   "outputs": [
    {
     "data": {
      "image/png": "[encoded data removed]",
      "text/plain": [
       "<Figure size 432x288 with 1 Axes>"
      ]
     },
     "metadata": {
      "needs_background": "light"
     },
     "output_type": "display_data"
    },
    {
     "data": {
      "application/javascript": [
       "\n",
       "            setTimeout(function() {\n",
       "                var nbb_cell_id = 47;\n",
       "                var nbb_unformatted_code = \"plot_importance(grid_search_xgb.best_estimator_ , max_num_features=10);\";\n",
       "                var nbb_formatted_code = \"plot_importance(grid_search_xgb.best_estimator_, max_num_features=10)\";\n",
       "                var nbb_cells = Jupyter.notebook.get_cells();\n",
       "                for (var i = 0; i < nbb_cells.length; ++i) {\n",
       "                    if (nbb_cells[i].input_prompt_number == nbb_cell_id) {\n",
       "                        if (nbb_cells[i].get_text() == nbb_unformatted_code) {\n",
       "                             nbb_cells[i].set_text(nbb_formatted_code);\n",
       "                        }\n",
       "                        break;\n",
       "                    }\n",
       "                }\n",
       "            }, 500);\n",
       "            "
      ],
      "text/plain": [
       "<IPython.core.display.Javascript object>"
      ]
     },
     "metadata": {},
     "output_type": "display_data"
    }
   ],
   "source": [
    "plot_importance(grid_search_xgb.best_estimator_ , max_num_features=10);"
   ]
  },
  {
   "cell_type": "code",
   "execution_count": 8,
   "metadata": {},
   "outputs": [
    {
     "data": {
      "text/plain": [
       "GridSearchCV(cv=3,\n",
       "             estimator=XGBClassifier(base_score=None, booster=None,\n",
       "                                     colsample_bylevel=None,\n",
       "                                     colsample_bynode=None,\n",
       "                                     colsample_bytree=None, gamma=None,\n",
       "                                     gpu_id=None, importance_type='gain',\n",
       "                                     interaction_constraints=None,\n",
       "                                     learning_rate=None, max_delta_step=None,\n",
       "                                     max_depth=None, min_child_weight=None,\n",
       "                                     missing=nan, monotone_constraints=None,\n",
       "                                     n_estimators=100, n_jobs=None,\n",
       "                                     num_parallel_tree=None, random_state=42,\n",
       "                                     reg_alpha=None, reg_lambda=None,\n",
       "                                     scale_pos_weight=None, subsample=None,\n",
       "                                     tree_method=None, validate_parameters=None,\n",
       "                                     verbosity=None),\n",
       "             param_grid={'learning_rate': [0.1, 0.2, 0.3, 0.4, 0.5, 0.6],\n",
       "                         'max_depth': array([ 8,  9, 10, 11, 12, 13, 14, 15])},\n",
       "             return_train_score=True, scoring='accuracy')"
      ]
     },
     "execution_count": 8,
     "metadata": {},
     "output_type": "execute_result"
    },
    {
     "data": {
      "application/javascript": [
       "\n",
       "            setTimeout(function() {\n",
       "                var nbb_cell_id = 8;\n",
       "                var nbb_unformatted_code = \"from xgboost import XGBClassifier\\nfrom sklearn.model_selection import GridSearchCV\\nparam_grid = {\\\"learning_rate\\\": [.1, .2, .3, .4, .5, .6],\\n             \\\"max_depth\\\": np.arange(8,16)}\\nxgb = XGBClassifier(random_state=42)\\ngrid_search_xgb2 = GridSearchCV(xgb, param_grid=param_grid, cv=3, scoring=\\\"accuracy\\\", return_train_score=True)\\ngrid_search_xgb2.fit(X_train, y_train)\";\n",
       "                var nbb_formatted_code = \"from xgboost import XGBClassifier\\nfrom sklearn.model_selection import GridSearchCV\\n\\nparam_grid = {\\n    \\\"learning_rate\\\": [0.1, 0.2, 0.3, 0.4, 0.5, 0.6],\\n    \\\"max_depth\\\": np.arange(8, 16),\\n}\\nxgb = XGBClassifier(random_state=42)\\ngrid_search_xgb2 = GridSearchCV(\\n    xgb, param_grid=param_grid, cv=3, scoring=\\\"accuracy\\\", return_train_score=True\\n)\\ngrid_search_xgb2.fit(X_train, y_train)\";\n",
       "                var nbb_cells = Jupyter.notebook.get_cells();\n",
       "                for (var i = 0; i < nbb_cells.length; ++i) {\n",
       "                    if (nbb_cells[i].input_prompt_number == nbb_cell_id) {\n",
       "                        if (nbb_cells[i].get_text() == nbb_unformatted_code) {\n",
       "                             nbb_cells[i].set_text(nbb_formatted_code);\n",
       "                        }\n",
       "                        break;\n",
       "                    }\n",
       "                }\n",
       "            }, 500);\n",
       "            "
      ],
      "text/plain": [
       "<IPython.core.display.Javascript object>"
      ]
     },
     "metadata": {},
     "output_type": "display_data"
    }
   ],
   "source": [
    "from xgboost import XGBClassifier\n",
    "from sklearn.model_selection import GridSearchCV\n",
    "param_grid = {\"learning_rate\": [.1, .2, .3, .4, .5, .6],\n",
    "             \"max_depth\": np.arange(8,16)}\n",
    "xgb = XGBClassifier(random_state=42)\n",
    "grid_search_xgb2 = GridSearchCV(xgb, param_grid=param_grid, cv=3, scoring=\"accuracy\", return_train_score=True)\n",
    "grid_search_xgb2.fit(X_train, y_train)"
   ]
  },
  {
   "cell_type": "code",
   "execution_count": 9,
   "metadata": {},
   "outputs": [
    {
     "data": {
      "text/plain": [
       "0.7411291591359971"
      ]
     },
     "execution_count": 9,
     "metadata": {},
     "output_type": "execute_result"
    },
    {
     "data": {
      "application/javascript": [
       "\n",
       "            setTimeout(function() {\n",
       "                var nbb_cell_id = 9;\n",
       "                var nbb_unformatted_code = \"grid_search_xgb2.best_score_\";\n",
       "                var nbb_formatted_code = \"grid_search_xgb2.best_score_\";\n",
       "                var nbb_cells = Jupyter.notebook.get_cells();\n",
       "                for (var i = 0; i < nbb_cells.length; ++i) {\n",
       "                    if (nbb_cells[i].input_prompt_number == nbb_cell_id) {\n",
       "                        if (nbb_cells[i].get_text() == nbb_unformatted_code) {\n",
       "                             nbb_cells[i].set_text(nbb_formatted_code);\n",
       "                        }\n",
       "                        break;\n",
       "                    }\n",
       "                }\n",
       "            }, 500);\n",
       "            "
      ],
      "text/plain": [
       "<IPython.core.display.Javascript object>"
      ]
     },
     "metadata": {},
     "output_type": "display_data"
    }
   ],
   "source": [
    "grid_search_xgb2.best_score_"
   ]
  },
  {
   "cell_type": "code",
   "execution_count": 10,
   "metadata": {},
   "outputs": [
    {
     "data": {
      "text/plain": [
       "{'learning_rate': 0.4, 'max_depth': 9}"
      ]
     },
     "execution_count": 10,
     "metadata": {},
     "output_type": "execute_result"
    },
    {
     "data": {
      "application/javascript": [
       "\n",
       "            setTimeout(function() {\n",
       "                var nbb_cell_id = 10;\n",
       "                var nbb_unformatted_code = \"grid_search_xgb2.best_params_\";\n",
       "                var nbb_formatted_code = \"grid_search_xgb2.best_params_\";\n",
       "                var nbb_cells = Jupyter.notebook.get_cells();\n",
       "                for (var i = 0; i < nbb_cells.length; ++i) {\n",
       "                    if (nbb_cells[i].input_prompt_number == nbb_cell_id) {\n",
       "                        if (nbb_cells[i].get_text() == nbb_unformatted_code) {\n",
       "                             nbb_cells[i].set_text(nbb_formatted_code);\n",
       "                        }\n",
       "                        break;\n",
       "                    }\n",
       "                }\n",
       "            }, 500);\n",
       "            "
      ],
      "text/plain": [
       "<IPython.core.display.Javascript object>"
      ]
     },
     "metadata": {},
     "output_type": "display_data"
    }
   ],
   "source": [
    "grid_search_xgb2.best_params_"
   ]
  },
  {
   "cell_type": "code",
   "execution_count": 11,
   "metadata": {},
   "outputs": [
    {
     "data": {
      "text/html": [
       "<div>\n",
       "<style scoped>\n",
       "    .dataframe tbody tr th:only-of-type {\n",
       "        vertical-align: middle;\n",
       "    }\n",
       "\n",
       "    .dataframe tbody tr th {\n",
       "        vertical-align: top;\n",
       "    }\n",
       "\n",
       "    .dataframe thead th {\n",
       "        text-align: right;\n",
       "    }\n",
       "</style>\n",
       "<table border=\"1\" class=\"dataframe\">\n",
       "  <thead>\n",
       "    <tr style=\"text-align: right;\">\n",
       "      <th></th>\n",
       "      <th>mean_fit_time</th>\n",
       "      <th>std_fit_time</th>\n",
       "      <th>mean_score_time</th>\n",
       "      <th>std_score_time</th>\n",
       "      <th>param_learning_rate</th>\n",
       "      <th>param_max_depth</th>\n",
       "      <th>params</th>\n",
       "      <th>split0_test_score</th>\n",
       "      <th>split1_test_score</th>\n",
       "      <th>split2_test_score</th>\n",
       "      <th>mean_test_score</th>\n",
       "      <th>std_test_score</th>\n",
       "      <th>rank_test_score</th>\n",
       "      <th>split0_train_score</th>\n",
       "      <th>split1_train_score</th>\n",
       "      <th>split2_train_score</th>\n",
       "      <th>mean_train_score</th>\n",
       "      <th>std_train_score</th>\n",
       "    </tr>\n",
       "  </thead>\n",
       "  <tbody>\n",
       "    <tr>\n",
       "      <th>0</th>\n",
       "      <td>343.365277</td>\n",
       "      <td>35.501427</td>\n",
       "      <td>1.726469</td>\n",
       "      <td>0.356074</td>\n",
       "      <td>0.1</td>\n",
       "      <td>8</td>\n",
       "      <td>{'learning_rate': 0.1, 'max_depth': 8}</td>\n",
       "      <td>0.715588</td>\n",
       "      <td>0.719675</td>\n",
       "      <td>0.718685</td>\n",
       "      <td>0.717983</td>\n",
       "      <td>0.001741</td>\n",
       "      <td>48</td>\n",
       "      <td>0.742060</td>\n",
       "      <td>0.741237</td>\n",
       "      <td>0.742635</td>\n",
       "      <td>0.741977</td>\n",
       "      <td>0.000574</td>\n",
       "    </tr>\n",
       "    <tr>\n",
       "      <th>1</th>\n",
       "      <td>477.227097</td>\n",
       "      <td>26.318267</td>\n",
       "      <td>2.970382</td>\n",
       "      <td>0.513117</td>\n",
       "      <td>0.1</td>\n",
       "      <td>9</td>\n",
       "      <td>{'learning_rate': 0.1, 'max_depth': 9}</td>\n",
       "      <td>0.723600</td>\n",
       "      <td>0.725580</td>\n",
       "      <td>0.724683</td>\n",
       "      <td>0.724621</td>\n",
       "      <td>0.000810</td>\n",
       "      <td>47</td>\n",
       "      <td>0.761037</td>\n",
       "      <td>0.759425</td>\n",
       "      <td>0.760577</td>\n",
       "      <td>0.760346</td>\n",
       "      <td>0.000678</td>\n",
       "    </tr>\n",
       "    <tr>\n",
       "      <th>2</th>\n",
       "      <td>604.604314</td>\n",
       "      <td>28.267904</td>\n",
       "      <td>5.808175</td>\n",
       "      <td>0.601670</td>\n",
       "      <td>0.1</td>\n",
       "      <td>10</td>\n",
       "      <td>{'learning_rate': 0.1, 'max_depth': 10}</td>\n",
       "      <td>0.728263</td>\n",
       "      <td>0.730692</td>\n",
       "      <td>0.728435</td>\n",
       "      <td>0.729130</td>\n",
       "      <td>0.001107</td>\n",
       "      <td>43</td>\n",
       "      <td>0.780567</td>\n",
       "      <td>0.777148</td>\n",
       "      <td>0.780141</td>\n",
       "      <td>0.779285</td>\n",
       "      <td>0.001521</td>\n",
       "    </tr>\n",
       "    <tr>\n",
       "      <th>3</th>\n",
       "      <td>600.810339</td>\n",
       "      <td>78.420206</td>\n",
       "      <td>5.093407</td>\n",
       "      <td>1.895780</td>\n",
       "      <td>0.1</td>\n",
       "      <td>11</td>\n",
       "      <td>{'learning_rate': 0.1, 'max_depth': 11}</td>\n",
       "      <td>0.730116</td>\n",
       "      <td>0.734813</td>\n",
       "      <td>0.732660</td>\n",
       "      <td>0.732530</td>\n",
       "      <td>0.001920</td>\n",
       "      <td>39</td>\n",
       "      <td>0.798957</td>\n",
       "      <td>0.799797</td>\n",
       "      <td>0.799659</td>\n",
       "      <td>0.799471</td>\n",
       "      <td>0.000368</td>\n",
       "    </tr>\n",
       "    <tr>\n",
       "      <th>4</th>\n",
       "      <td>644.977115</td>\n",
       "      <td>26.846206</td>\n",
       "      <td>6.660598</td>\n",
       "      <td>0.665107</td>\n",
       "      <td>0.1</td>\n",
       "      <td>12</td>\n",
       "      <td>{'learning_rate': 0.1, 'max_depth': 12}</td>\n",
       "      <td>0.734571</td>\n",
       "      <td>0.737622</td>\n",
       "      <td>0.735331</td>\n",
       "      <td>0.735841</td>\n",
       "      <td>0.001297</td>\n",
       "      <td>33</td>\n",
       "      <td>0.819563</td>\n",
       "      <td>0.819966</td>\n",
       "      <td>0.821520</td>\n",
       "      <td>0.820350</td>\n",
       "      <td>0.000844</td>\n",
       "    </tr>\n",
       "  </tbody>\n",
       "</table>\n",
       "</div>"
      ],
      "text/plain": [
       "   mean_fit_time  std_fit_time  mean_score_time  std_score_time  \\\n",
       "0     343.365277     35.501427         1.726469        0.356074   \n",
       "1     477.227097     26.318267         2.970382        0.513117   \n",
       "2     604.604314     28.267904         5.808175        0.601670   \n",
       "3     600.810339     78.420206         5.093407        1.895780   \n",
       "4     644.977115     26.846206         6.660598        0.665107   \n",
       "\n",
       "  param_learning_rate param_max_depth  \\\n",
       "0                 0.1               8   \n",
       "1                 0.1               9   \n",
       "2                 0.1              10   \n",
       "3                 0.1              11   \n",
       "4                 0.1              12   \n",
       "\n",
       "                                    params  split0_test_score  \\\n",
       "0   {'learning_rate': 0.1, 'max_depth': 8}           0.715588   \n",
       "1   {'learning_rate': 0.1, 'max_depth': 9}           0.723600   \n",
       "2  {'learning_rate': 0.1, 'max_depth': 10}           0.728263   \n",
       "3  {'learning_rate': 0.1, 'max_depth': 11}           0.730116   \n",
       "4  {'learning_rate': 0.1, 'max_depth': 12}           0.734571   \n",
       "\n",
       "   split1_test_score  split2_test_score  mean_test_score  std_test_score  \\\n",
       "0           0.719675           0.718685         0.717983        0.001741   \n",
       "1           0.725580           0.724683         0.724621        0.000810   \n",
       "2           0.730692           0.728435         0.729130        0.001107   \n",
       "3           0.734813           0.732660         0.732530        0.001920   \n",
       "4           0.737622           0.735331         0.735841        0.001297   \n",
       "\n",
       "   rank_test_score  split0_train_score  split1_train_score  \\\n",
       "0               48            0.742060            0.741237   \n",
       "1               47            0.761037            0.759425   \n",
       "2               43            0.780567            0.777148   \n",
       "3               39            0.798957            0.799797   \n",
       "4               33            0.819563            0.819966   \n",
       "\n",
       "   split2_train_score  mean_train_score  std_train_score  \n",
       "0            0.742635          0.741977         0.000574  \n",
       "1            0.760577          0.760346         0.000678  \n",
       "2            0.780141          0.779285         0.001521  \n",
       "3            0.799659          0.799471         0.000368  \n",
       "4            0.821520          0.820350         0.000844  "
      ]
     },
     "execution_count": 11,
     "metadata": {},
     "output_type": "execute_result"
    },
    {
     "data": {
      "application/javascript": [
       "\n",
       "            setTimeout(function() {\n",
       "                var nbb_cell_id = 11;\n",
       "                var nbb_unformatted_code = \"results2 = pd.DataFrame(grid_search_xgb2.cv_results_)\\nresults2.head()\";\n",
       "                var nbb_formatted_code = \"results2 = pd.DataFrame(grid_search_xgb2.cv_results_)\\nresults2.head()\";\n",
       "                var nbb_cells = Jupyter.notebook.get_cells();\n",
       "                for (var i = 0; i < nbb_cells.length; ++i) {\n",
       "                    if (nbb_cells[i].input_prompt_number == nbb_cell_id) {\n",
       "                        if (nbb_cells[i].get_text() == nbb_unformatted_code) {\n",
       "                             nbb_cells[i].set_text(nbb_formatted_code);\n",
       "                        }\n",
       "                        break;\n",
       "                    }\n",
       "                }\n",
       "            }, 500);\n",
       "            "
      ],
      "text/plain": [
       "<IPython.core.display.Javascript object>"
      ]
     },
     "metadata": {},
     "output_type": "display_data"
    }
   ],
   "source": [
    "results2 = pd.DataFrame(grid_search_xgb2.cv_results_)\n",
    "results2.head()"
   ]
  },
  {
   "cell_type": "code",
   "execution_count": 12,
   "metadata": {},
   "outputs": [
    {
     "data": {
      "image/png": "[encoded data removed]",
      "text/plain": [
       "<Figure size 432x288 with 2 Axes>"
      ]
     },
     "metadata": {
      "needs_background": "light"
     },
     "output_type": "display_data"
    },
    {
     "data": {
      "application/javascript": [
       "\n",
       "            setTimeout(function() {\n",
       "                var nbb_cell_id = 12;\n",
       "                var nbb_unformatted_code = \"sns.heatmap(pd.pivot_table(results2, index='param_max_depth', columns='param_learning_rate', values='mean_test_score'));\";\n",
       "                var nbb_formatted_code = \"sns.heatmap(\\n    pd.pivot_table(\\n        results2,\\n        index=\\\"param_max_depth\\\",\\n        columns=\\\"param_learning_rate\\\",\\n        values=\\\"mean_test_score\\\",\\n    )\\n)\";\n",
       "                var nbb_cells = Jupyter.notebook.get_cells();\n",
       "                for (var i = 0; i < nbb_cells.length; ++i) {\n",
       "                    if (nbb_cells[i].input_prompt_number == nbb_cell_id) {\n",
       "                        if (nbb_cells[i].get_text() == nbb_unformatted_code) {\n",
       "                             nbb_cells[i].set_text(nbb_formatted_code);\n",
       "                        }\n",
       "                        break;\n",
       "                    }\n",
       "                }\n",
       "            }, 500);\n",
       "            "
      ],
      "text/plain": [
       "<IPython.core.display.Javascript object>"
      ]
     },
     "metadata": {},
     "output_type": "display_data"
    }
   ],
   "source": [
    "sns.heatmap(pd.pivot_table(results2, index='param_max_depth', columns='param_learning_rate', values='mean_test_score'));"
   ]
  },
  {
   "cell_type": "code",
   "execution_count": 13,
   "metadata": {},
   "outputs": [
    {
     "data": {
      "application/javascript": [
       "\n",
       "            setTimeout(function() {\n",
       "                var nbb_cell_id = 13;\n",
       "                var nbb_unformatted_code = \"# make a submission\\nxgb_hyper2_pred = grid_search_xgb2.best_estimator_.predict(X_test)\\nsubmission_format['damage_grade'] = xgb_hyper2_pred\\nsave_dataframe(submission_format, \\\"xgb_hyper2.csv\\\")\";\n",
       "                var nbb_formatted_code = \"# make a submission\\nxgb_hyper2_pred = grid_search_xgb2.best_estimator_.predict(X_test)\\nsubmission_format[\\\"damage_grade\\\"] = xgb_hyper2_pred\\nsave_dataframe(submission_format, \\\"xgb_hyper2.csv\\\")\";\n",
       "                var nbb_cells = Jupyter.notebook.get_cells();\n",
       "                for (var i = 0; i < nbb_cells.length; ++i) {\n",
       "                    if (nbb_cells[i].input_prompt_number == nbb_cell_id) {\n",
       "                        if (nbb_cells[i].get_text() == nbb_unformatted_code) {\n",
       "                             nbb_cells[i].set_text(nbb_formatted_code);\n",
       "                        }\n",
       "                        break;\n",
       "                    }\n",
       "                }\n",
       "            }, 500);\n",
       "            "
      ],
      "text/plain": [
       "<IPython.core.display.Javascript object>"
      ]
     },
     "metadata": {},
     "output_type": "display_data"
    }
   ],
   "source": [
    "# make a submission\n",
    "xgb_hyper2_pred = grid_search_xgb2.best_estimator_.predict(X_test)\n",
    "submission_format['damage_grade'] = xgb_hyper2_pred\n",
    "save_dataframe(submission_format, \"xgb_hyper2.csv\")"
   ]
  },
  {
   "cell_type": "code",
   "execution_count": 10,
   "metadata": {},
   "outputs": [
    {
     "data": {
      "text/plain": [
       "GridSearchCV(cv=3,\n",
       "             estimator=XGBClassifier(base_score=None, booster=None,\n",
       "                                     colsample_bylevel=None,\n",
       "                                     colsample_bynode=None,\n",
       "                                     colsample_bytree=None, gamma=None,\n",
       "                                     gpu_id=None, importance_type='gain',\n",
       "                                     interaction_constraints=None,\n",
       "                                     learning_rate=0.4, max_delta_step=None,\n",
       "                                     max_depth=9, min_child_weight=None,\n",
       "                                     missing=nan, monotone_constraints=None,\n",
       "                                     n_estimators=100, n_jobs=None,\n",
       "                                     num_parallel_tree=None, random_state=42,\n",
       "                                     reg_alpha=None, reg_lambda=None,\n",
       "                                     scale_pos_weight=None, subsample=None,\n",
       "                                     tree_method=None, validate_parameters=None,\n",
       "                                     verbosity=None),\n",
       "             param_grid={'n_estimators': [100, 200, 300, 400, 500]},\n",
       "             return_train_score=True, scoring='accuracy')"
      ]
     },
     "execution_count": 10,
     "metadata": {},
     "output_type": "execute_result"
    },
    {
     "data": {
      "application/javascript": [
       "\n",
       "            setTimeout(function() {\n",
       "                var nbb_cell_id = 10;\n",
       "                var nbb_unformatted_code = \"from xgboost import XGBClassifier\\nfrom sklearn.model_selection import GridSearchCV\\nparam_grid = {\\\"n_estimators\\\": [100, 200, 300, 400, 500]}\\nxgb = XGBClassifier(learning_rate = 0.4, max_depth = 9, random_state=42)\\ngrid_search_xgb3 = GridSearchCV(xgb, param_grid=param_grid, cv=3, scoring=\\\"accuracy\\\", return_train_score=True)\\ngrid_search_xgb3.fit(X_train, y_train)\";\n",
       "                var nbb_formatted_code = \"from xgboost import XGBClassifier\\nfrom sklearn.model_selection import GridSearchCV\\n\\nparam_grid = {\\\"n_estimators\\\": [100, 200, 300, 400, 500]}\\nxgb = XGBClassifier(learning_rate=0.4, max_depth=9, random_state=42)\\ngrid_search_xgb3 = GridSearchCV(\\n    xgb, param_grid=param_grid, cv=3, scoring=\\\"accuracy\\\", return_train_score=True\\n)\\ngrid_search_xgb3.fit(X_train, y_train)\";\n",
       "                var nbb_cells = Jupyter.notebook.get_cells();\n",
       "                for (var i = 0; i < nbb_cells.length; ++i) {\n",
       "                    if (nbb_cells[i].input_prompt_number == nbb_cell_id) {\n",
       "                        if (nbb_cells[i].get_text() == nbb_unformatted_code) {\n",
       "                             nbb_cells[i].set_text(nbb_formatted_code);\n",
       "                        }\n",
       "                        break;\n",
       "                    }\n",
       "                }\n",
       "            }, 500);\n",
       "            "
      ],
      "text/plain": [
       "<IPython.core.display.Javascript object>"
      ]
     },
     "metadata": {},
     "output_type": "display_data"
    }
   ],
   "source": [
    "from xgboost import XGBClassifier\n",
    "from sklearn.model_selection import GridSearchCV\n",
    "param_grid = {\"n_estimators\": [100, 200, 300, 400, 500]}\n",
    "xgb = XGBClassifier(learning_rate = 0.4, max_depth = 9, random_state=42)\n",
    "grid_search_xgb3 = GridSearchCV(xgb, param_grid=param_grid, cv=3, scoring=\"accuracy\", return_train_score=True)\n",
    "grid_search_xgb3.fit(X_train, y_train)"
   ]
  },
  {
   "cell_type": "code",
   "execution_count": 11,
   "metadata": {},
   "outputs": [
    {
     "data": {
      "text/plain": [
       "0.7425681405673809"
      ]
     },
     "execution_count": 11,
     "metadata": {},
     "output_type": "execute_result"
    },
    {
     "data": {
      "application/javascript": [
       "\n",
       "            setTimeout(function() {\n",
       "                var nbb_cell_id = 11;\n",
       "                var nbb_unformatted_code = \"grid_search_xgb3.best_score_\";\n",
       "                var nbb_formatted_code = \"grid_search_xgb3.best_score_\";\n",
       "                var nbb_cells = Jupyter.notebook.get_cells();\n",
       "                for (var i = 0; i < nbb_cells.length; ++i) {\n",
       "                    if (nbb_cells[i].input_prompt_number == nbb_cell_id) {\n",
       "                        if (nbb_cells[i].get_text() == nbb_unformatted_code) {\n",
       "                             nbb_cells[i].set_text(nbb_formatted_code);\n",
       "                        }\n",
       "                        break;\n",
       "                    }\n",
       "                }\n",
       "            }, 500);\n",
       "            "
      ],
      "text/plain": [
       "<IPython.core.display.Javascript object>"
      ]
     },
     "metadata": {},
     "output_type": "display_data"
    }
   ],
   "source": [
    "grid_search_xgb3.best_score_"
   ]
  },
  {
   "cell_type": "code",
   "execution_count": 12,
   "metadata": {},
   "outputs": [
    {
     "data": {
      "text/plain": [
       "{'n_estimators': 200}"
      ]
     },
     "execution_count": 12,
     "metadata": {},
     "output_type": "execute_result"
    },
    {
     "data": {
      "application/javascript": [
       "\n",
       "            setTimeout(function() {\n",
       "                var nbb_cell_id = 12;\n",
       "                var nbb_unformatted_code = \"grid_search_xgb3.best_params_\";\n",
       "                var nbb_formatted_code = \"grid_search_xgb3.best_params_\";\n",
       "                var nbb_cells = Jupyter.notebook.get_cells();\n",
       "                for (var i = 0; i < nbb_cells.length; ++i) {\n",
       "                    if (nbb_cells[i].input_prompt_number == nbb_cell_id) {\n",
       "                        if (nbb_cells[i].get_text() == nbb_unformatted_code) {\n",
       "                             nbb_cells[i].set_text(nbb_formatted_code);\n",
       "                        }\n",
       "                        break;\n",
       "                    }\n",
       "                }\n",
       "            }, 500);\n",
       "            "
      ],
      "text/plain": [
       "<IPython.core.display.Javascript object>"
      ]
     },
     "metadata": {},
     "output_type": "display_data"
    }
   ],
   "source": [
    "grid_search_xgb3.best_params_"
   ]
  },
  {
   "cell_type": "code",
   "execution_count": 13,
   "metadata": {},
   "outputs": [
    {
     "data": {
      "application/javascript": [
       "\n",
       "            setTimeout(function() {\n",
       "                var nbb_cell_id = 13;\n",
       "                var nbb_unformatted_code = \"# make a submission\\nxgb_hyper3_pred = grid_search_xgb3.best_estimator_.predict(X_test)\\nsubmission_format['damage_grade'] = xgb_hyper3_pred\\nsave_dataframe(submission_format, \\\"xgb_hyper3.csv\\\")\";\n",
       "                var nbb_formatted_code = \"# make a submission\\nxgb_hyper3_pred = grid_search_xgb3.best_estimator_.predict(X_test)\\nsubmission_format[\\\"damage_grade\\\"] = xgb_hyper3_pred\\nsave_dataframe(submission_format, \\\"xgb_hyper3.csv\\\")\";\n",
       "                var nbb_cells = Jupyter.notebook.get_cells();\n",
       "                for (var i = 0; i < nbb_cells.length; ++i) {\n",
       "                    if (nbb_cells[i].input_prompt_number == nbb_cell_id) {\n",
       "                        if (nbb_cells[i].get_text() == nbb_unformatted_code) {\n",
       "                             nbb_cells[i].set_text(nbb_formatted_code);\n",
       "                        }\n",
       "                        break;\n",
       "                    }\n",
       "                }\n",
       "            }, 500);\n",
       "            "
      ],
      "text/plain": [
       "<IPython.core.display.Javascript object>"
      ]
     },
     "metadata": {},
     "output_type": "display_data"
    }
   ],
   "source": [
    "# make a submission\n",
    "xgb_hyper3_pred = grid_search_xgb3.best_estimator_.predict(X_test)\n",
    "submission_format['damage_grade'] = xgb_hyper3_pred\n",
    "save_dataframe(submission_format, \"xgb_hyper3.csv\")"
   ]
  },
  {
   "cell_type": "code",
   "execution_count": 14,
   "metadata": {},
   "outputs": [
    {
     "data": {
      "text/plain": [
       "XGBClassifier(base_score=0.5, booster='gbtree', colsample_bylevel=1,\n",
       "              colsample_bynode=1, colsample_bytree=1, gamma=0, gpu_id=-1,\n",
       "              importance_type='gain', interaction_constraints='',\n",
       "              learning_rate=0.4, max_delta_step=0, max_depth=9,\n",
       "              min_child_weight=1, missing=nan, monotone_constraints='()',\n",
       "              n_estimators=200, n_jobs=0, num_parallel_tree=1,\n",
       "              objective='multi:softprob', random_state=42, reg_alpha=0,\n",
       "              reg_lambda=1, scale_pos_weight=None, subsample=1,\n",
       "              tree_method='exact', validate_parameters=1, verbosity=None)"
      ]
     },
     "execution_count": 14,
     "metadata": {},
     "output_type": "execute_result"
    },
    {
     "data": {
      "application/javascript": [
       "\n",
       "            setTimeout(function() {\n",
       "                var nbb_cell_id = 14;\n",
       "                var nbb_unformatted_code = \"grid_search_xgb3.best_estimator_\";\n",
       "                var nbb_formatted_code = \"grid_search_xgb3.best_estimator_\";\n",
       "                var nbb_cells = Jupyter.notebook.get_cells();\n",
       "                for (var i = 0; i < nbb_cells.length; ++i) {\n",
       "                    if (nbb_cells[i].input_prompt_number == nbb_cell_id) {\n",
       "                        if (nbb_cells[i].get_text() == nbb_unformatted_code) {\n",
       "                             nbb_cells[i].set_text(nbb_formatted_code);\n",
       "                        }\n",
       "                        break;\n",
       "                    }\n",
       "                }\n",
       "            }, 500);\n",
       "            "
      ],
      "text/plain": [
       "<IPython.core.display.Javascript object>"
      ]
     },
     "metadata": {},
     "output_type": "display_data"
    }
   ],
   "source": [
    "grid_search_xgb3.best_estimator_"
   ]
  },
  {
   "cell_type": "markdown",
   "metadata": {},
   "source": [
    "### Voting Classifier"
   ]
  },
  {
   "cell_type": "code",
   "execution_count": 17,
   "metadata": {},
   "outputs": [
    {
     "data": {
      "application/javascript": [
       "\n",
       "            setTimeout(function() {\n",
       "                var nbb_cell_id = 17;\n",
       "                var nbb_unformatted_code = \"from sklearn.ensemble import RandomForestClassifier\\nfrom xgboost import XGBClassifier\\nfrom lightgbm import LGBMClassifier\\nfrom sklearn.ensemble import VotingClassifier\\nfrom sklearn.model_selection import cross_val_score\";\n",
       "                var nbb_formatted_code = \"from sklearn.ensemble import RandomForestClassifier\\nfrom xgboost import XGBClassifier\\nfrom lightgbm import LGBMClassifier\\nfrom sklearn.ensemble import VotingClassifier\\nfrom sklearn.model_selection import cross_val_score\";\n",
       "                var nbb_cells = Jupyter.notebook.get_cells();\n",
       "                for (var i = 0; i < nbb_cells.length; ++i) {\n",
       "                    if (nbb_cells[i].input_prompt_number == nbb_cell_id) {\n",
       "                        if (nbb_cells[i].get_text() == nbb_unformatted_code) {\n",
       "                             nbb_cells[i].set_text(nbb_formatted_code);\n",
       "                        }\n",
       "                        break;\n",
       "                    }\n",
       "                }\n",
       "            }, 500);\n",
       "            "
      ],
      "text/plain": [
       "<IPython.core.display.Javascript object>"
      ]
     },
     "metadata": {},
     "output_type": "display_data"
    }
   ],
   "source": [
    "from sklearn.ensemble import RandomForestClassifier\n",
    "from xgboost import XGBClassifier\n",
    "from lightgbm import LGBMClassifier\n",
    "from sklearn.ensemble import VotingClassifier\n",
    "from sklearn.model_selection import cross_val_score"
   ]
  },
  {
   "cell_type": "code",
   "execution_count": 22,
   "metadata": {},
   "outputs": [
    {
     "data": {
      "text/plain": [
       "array([0.71919141, 0.72011236, 0.7211254 ])"
      ]
     },
     "execution_count": 22,
     "metadata": {},
     "output_type": "execute_result"
    },
    {
     "data": {
      "application/javascript": [
       "\n",
       "            setTimeout(function() {\n",
       "                var nbb_cell_id = 22;\n",
       "                var nbb_unformatted_code = \"rnd_forest = RandomForestClassifier(criterion= 'gini',max_depth=19, max_features= 'sqrt',min_samples_leaf= 11,min_samples_split= 19,n_estimators= 469)\\nlightgbm_clf = LGBMClassifier()\\nxgb_clf = XGBClassifier(learning_rate=0.4, max_depth=9, n_estimators=200)\\n\\nvoting_clf = VotingClassifier(\\n    estimators=[('rf', rnd_forest), ('light', lightgbm_clf), ('xgb', xgb_clf)],\\n    voting='hard'\\n)\\nscores = cross_val_score(voting_clf, X_train, y_train, cv=3)\\nscores\";\n",
       "                var nbb_formatted_code = \"rnd_forest = RandomForestClassifier(\\n    criterion=\\\"gini\\\",\\n    max_depth=19,\\n    max_features=\\\"sqrt\\\",\\n    min_samples_leaf=11,\\n    min_samples_split=19,\\n    n_estimators=469,\\n)\\nlightgbm_clf = LGBMClassifier()\\nxgb_clf = XGBClassifier(learning_rate=0.4, max_depth=9, n_estimators=200)\\n\\nvoting_clf = VotingClassifier(\\n    estimators=[(\\\"rf\\\", rnd_forest), (\\\"light\\\", lightgbm_clf), (\\\"xgb\\\", xgb_clf)],\\n    voting=\\\"hard\\\",\\n)\\nscores = cross_val_score(voting_clf, X_train, y_train, cv=3)\\nscores\";\n",
       "                var nbb_cells = Jupyter.notebook.get_cells();\n",
       "                for (var i = 0; i < nbb_cells.length; ++i) {\n",
       "                    if (nbb_cells[i].input_prompt_number == nbb_cell_id) {\n",
       "                        if (nbb_cells[i].get_text() == nbb_unformatted_code) {\n",
       "                             nbb_cells[i].set_text(nbb_formatted_code);\n",
       "                        }\n",
       "                        break;\n",
       "                    }\n",
       "                }\n",
       "            }, 500);\n",
       "            "
      ],
      "text/plain": [
       "<IPython.core.display.Javascript object>"
      ]
     },
     "metadata": {},
     "output_type": "display_data"
    }
   ],
   "source": [
    "rnd_forest = RandomForestClassifier(criterion= 'gini',max_depth=19, max_features= 'sqrt',min_samples_leaf= 11,min_samples_split= 19,n_estimators= 469)\n",
    "lightgbm_clf = LGBMClassifier()\n",
    "xgb_clf = XGBClassifier(learning_rate=0.4, max_depth=9, n_estimators=200)\n",
    "\n",
    "voting_clf = VotingClassifier(\n",
    "    estimators=[('rf', rnd_forest), ('light', lightgbm_clf), ('xgb', xgb_clf)],\n",
    "    voting='hard'\n",
    ")\n",
    "scores = cross_val_score(voting_clf, X_train, y_train, cv=3)\n",
    "scores"
   ]
  },
  {
   "cell_type": "code",
   "execution_count": 23,
   "metadata": {},
   "outputs": [
    {
     "data": {
      "text/plain": [
       "0.7201430539406987"
      ]
     },
     "execution_count": 23,
     "metadata": {},
     "output_type": "execute_result"
    },
    {
     "data": {
      "application/javascript": [
       "\n",
       "            setTimeout(function() {\n",
       "                var nbb_cell_id = 23;\n",
       "                var nbb_unformatted_code = \"scores.mean()\";\n",
       "                var nbb_formatted_code = \"scores.mean()\";\n",
       "                var nbb_cells = Jupyter.notebook.get_cells();\n",
       "                for (var i = 0; i < nbb_cells.length; ++i) {\n",
       "                    if (nbb_cells[i].input_prompt_number == nbb_cell_id) {\n",
       "                        if (nbb_cells[i].get_text() == nbb_unformatted_code) {\n",
       "                             nbb_cells[i].set_text(nbb_formatted_code);\n",
       "                        }\n",
       "                        break;\n",
       "                    }\n",
       "                }\n",
       "            }, 500);\n",
       "            "
      ],
      "text/plain": [
       "<IPython.core.display.Javascript object>"
      ]
     },
     "metadata": {},
     "output_type": "display_data"
    }
   ],
   "source": [
    "scores.mean()"
   ]
  },
  {
   "cell_type": "markdown",
   "metadata": {},
   "source": [
    "The voting classifier is performing very bad. Let's try stacking. "
   ]
  },
  {
   "cell_type": "markdown",
   "metadata": {},
   "source": [
    "## Stacking "
   ]
  },
  {
   "cell_type": "code",
   "execution_count": 26,
   "metadata": {},
   "outputs": [
    {
     "data": {
      "application/javascript": [
       "\n",
       "            setTimeout(function() {\n",
       "                var nbb_cell_id = 26;\n",
       "                var nbb_unformatted_code = \"# create a training and a validation set from the training set\\nfrom sklearn.model_selection import train_test_split\\nX_train1, X_valid, y_train1, y_valid = train_test_split(X_train, y_train, test_size=.3, random_state=42)\";\n",
       "                var nbb_formatted_code = \"# create a training and a validation set from the training set\\nfrom sklearn.model_selection import train_test_split\\n\\nX_train1, X_valid, y_train1, y_valid = train_test_split(\\n    X_train, y_train, test_size=0.3, random_state=42\\n)\";\n",
       "                var nbb_cells = Jupyter.notebook.get_cells();\n",
       "                for (var i = 0; i < nbb_cells.length; ++i) {\n",
       "                    if (nbb_cells[i].input_prompt_number == nbb_cell_id) {\n",
       "                        if (nbb_cells[i].get_text() == nbb_unformatted_code) {\n",
       "                             nbb_cells[i].set_text(nbb_formatted_code);\n",
       "                        }\n",
       "                        break;\n",
       "                    }\n",
       "                }\n",
       "            }, 500);\n",
       "            "
      ],
      "text/plain": [
       "<IPython.core.display.Javascript object>"
      ]
     },
     "metadata": {},
     "output_type": "display_data"
    }
   ],
   "source": [
    "# create a training and a validation set from the training set\n",
    "from sklearn.model_selection import train_test_split\n",
    "X_train1, X_valid, y_train1, y_valid = train_test_split(X_train, y_train, test_size=.3, random_state=42)"
   ]
  },
  {
   "cell_type": "code",
   "execution_count": 27,
   "metadata": {},
   "outputs": [
    {
     "name": "stdout",
     "output_type": "stream",
     "text": [
      "Training the RandomForestClassifier(max_depth=19, max_features='sqrt', min_samples_leaf=11,\n",
      "                       min_samples_split=19, n_estimators=469)\n",
      "Training the LGBMClassifier()\n",
      "Training the XGBClassifier(base_score=None, booster=None, colsample_bylevel=None,\n",
      "              colsample_bynode=None, colsample_bytree=None, gamma=None,\n",
      "              gpu_id=None, importance_type='gain', interaction_constraints=None,\n",
      "              learning_rate=0.4, max_delta_step=None, max_depth=9,\n",
      "              min_child_weight=None, missing=nan, monotone_constraints=None,\n",
      "              n_estimators=200, n_jobs=None, num_parallel_tree=None,\n",
      "              random_state=None, reg_alpha=None, reg_lambda=None,\n",
      "              scale_pos_weight=None, subsample=None, tree_method=None,\n",
      "              validate_parameters=None, verbosity=None)\n"
     ]
    },
    {
     "data": {
      "application/javascript": [
       "\n",
       "            setTimeout(function() {\n",
       "                var nbb_cell_id = 27;\n",
       "                var nbb_unformatted_code = \"# train all the estimators on the training data\\nrnd_forest = RandomForestClassifier(criterion= 'gini',max_depth=19, max_features= 'sqrt',min_samples_leaf= 11,min_samples_split= 19,n_estimators= 469)\\nlightgbm_clf = LGBMClassifier()\\nxgb_clf = XGBClassifier(learning_rate=0.4, max_depth=9, n_estimators=200)\\n\\nestimators = [rnd_forest, lightgbm_clf, xgb_clf]\\n\\nfor estimator in estimators:\\n    print(\\\"Training the\\\", estimator)\\n    estimator.fit(X_train1, y_train1)\";\n",
       "                var nbb_formatted_code = \"# train all the estimators on the training data\\nrnd_forest = RandomForestClassifier(\\n    criterion=\\\"gini\\\",\\n    max_depth=19,\\n    max_features=\\\"sqrt\\\",\\n    min_samples_leaf=11,\\n    min_samples_split=19,\\n    n_estimators=469,\\n)\\nlightgbm_clf = LGBMClassifier()\\nxgb_clf = XGBClassifier(learning_rate=0.4, max_depth=9, n_estimators=200)\\n\\nestimators = [rnd_forest, lightgbm_clf, xgb_clf]\\n\\nfor estimator in estimators:\\n    print(\\\"Training the\\\", estimator)\\n    estimator.fit(X_train1, y_train1)\";\n",
       "                var nbb_cells = Jupyter.notebook.get_cells();\n",
       "                for (var i = 0; i < nbb_cells.length; ++i) {\n",
       "                    if (nbb_cells[i].input_prompt_number == nbb_cell_id) {\n",
       "                        if (nbb_cells[i].get_text() == nbb_unformatted_code) {\n",
       "                             nbb_cells[i].set_text(nbb_formatted_code);\n",
       "                        }\n",
       "                        break;\n",
       "                    }\n",
       "                }\n",
       "            }, 500);\n",
       "            "
      ],
      "text/plain": [
       "<IPython.core.display.Javascript object>"
      ]
     },
     "metadata": {},
     "output_type": "display_data"
    }
   ],
   "source": [
    "# train all the estimators on the training data\n",
    "rnd_forest = RandomForestClassifier(criterion= 'gini',max_depth=19, max_features= 'sqrt',min_samples_leaf= 11,min_samples_split= 19,n_estimators= 469)\n",
    "lightgbm_clf = LGBMClassifier()\n",
    "xgb_clf = XGBClassifier(learning_rate=0.4, max_depth=9, n_estimators=200)\n",
    "\n",
    "estimators = [rnd_forest, lightgbm_clf, xgb_clf]\n",
    "\n",
    "for estimator in estimators:\n",
    "    print(\"Training the\", estimator)\n",
    "    estimator.fit(X_train1, y_train1)"
   ]
  },
  {
   "cell_type": "code",
   "execution_count": 28,
   "metadata": {},
   "outputs": [
    {
     "data": {
      "text/plain": [
       "[0.672234941993579, 0.711707448101201, 0.7408193806679372]"
      ]
     },
     "execution_count": 28,
     "metadata": {},
     "output_type": "execute_result"
    },
    {
     "data": {
      "application/javascript": [
       "\n",
       "            setTimeout(function() {\n",
       "                var nbb_cell_id = 28;\n",
       "                var nbb_unformatted_code = \"[estimator.score(X_valid, y_valid) for estimator in estimators]\";\n",
       "                var nbb_formatted_code = \"[estimator.score(X_valid, y_valid) for estimator in estimators]\";\n",
       "                var nbb_cells = Jupyter.notebook.get_cells();\n",
       "                for (var i = 0; i < nbb_cells.length; ++i) {\n",
       "                    if (nbb_cells[i].input_prompt_number == nbb_cell_id) {\n",
       "                        if (nbb_cells[i].get_text() == nbb_unformatted_code) {\n",
       "                             nbb_cells[i].set_text(nbb_formatted_code);\n",
       "                        }\n",
       "                        break;\n",
       "                    }\n",
       "                }\n",
       "            }, 500);\n",
       "            "
      ],
      "text/plain": [
       "<IPython.core.display.Javascript object>"
      ]
     },
     "metadata": {},
     "output_type": "display_data"
    }
   ],
   "source": [
    "[estimator.score(X_valid, y_valid) for estimator in estimators]"
   ]
  },
  {
   "cell_type": "code",
   "execution_count": 29,
   "metadata": {},
   "outputs": [
    {
     "data": {
      "application/javascript": [
       "\n",
       "            setTimeout(function() {\n",
       "                var nbb_cell_id = 29;\n",
       "                var nbb_unformatted_code = \"# use this trained estimators to make predictions on the validation set\\nX_val_predictions = np.empty((len(X_valid), len(estimators)), dtype=np.float32)\\n\\nfor index, estimator in enumerate(estimators):\\n    X_val_predictions[:, index] = estimator.predict(X_valid)\";\n",
       "                var nbb_formatted_code = \"# use this trained estimators to make predictions on the validation set\\nX_val_predictions = np.empty((len(X_valid), len(estimators)), dtype=np.float32)\\n\\nfor index, estimator in enumerate(estimators):\\n    X_val_predictions[:, index] = estimator.predict(X_valid)\";\n",
       "                var nbb_cells = Jupyter.notebook.get_cells();\n",
       "                for (var i = 0; i < nbb_cells.length; ++i) {\n",
       "                    if (nbb_cells[i].input_prompt_number == nbb_cell_id) {\n",
       "                        if (nbb_cells[i].get_text() == nbb_unformatted_code) {\n",
       "                             nbb_cells[i].set_text(nbb_formatted_code);\n",
       "                        }\n",
       "                        break;\n",
       "                    }\n",
       "                }\n",
       "            }, 500);\n",
       "            "
      ],
      "text/plain": [
       "<IPython.core.display.Javascript object>"
      ]
     },
     "metadata": {},
     "output_type": "display_data"
    }
   ],
   "source": [
    "# use this trained estimators to make predictions on the validation set\n",
    "X_val_predictions = np.empty((len(X_valid), len(estimators)), dtype=np.float32)\n",
    "\n",
    "for index, estimator in enumerate(estimators):\n",
    "    X_val_predictions[:, index] = estimator.predict(X_valid)"
   ]
  },
  {
   "cell_type": "code",
   "execution_count": 30,
   "metadata": {},
   "outputs": [
    {
     "data": {
      "text/plain": [
       "XGBClassifier(base_score=0.5, booster='gbtree', colsample_bylevel=1,\n",
       "              colsample_bynode=1, colsample_bytree=1, gamma=0, gpu_id=-1,\n",
       "              importance_type='gain', interaction_constraints='',\n",
       "              learning_rate=0.4, max_delta_step=0, max_depth=9,\n",
       "              min_child_weight=1, missing=nan, monotone_constraints='()',\n",
       "              n_estimators=200, n_jobs=0, num_parallel_tree=1,\n",
       "              objective='multi:softprob', random_state=0, reg_alpha=0,\n",
       "              reg_lambda=1, scale_pos_weight=None, subsample=1,\n",
       "              tree_method='exact', validate_parameters=1, verbosity=None)"
      ]
     },
     "execution_count": 30,
     "metadata": {},
     "output_type": "execute_result"
    },
    {
     "data": {
      "application/javascript": [
       "\n",
       "            setTimeout(function() {\n",
       "                var nbb_cell_id = 30;\n",
       "                var nbb_unformatted_code = \"# now use these predictions as a training data for the second stage\\nxgb_blender = XGBClassifier(learning_rate=0.4, max_depth=9, n_estimators=200)\\nxgb_blender.fit(X_val_predictions, y_valid)\";\n",
       "                var nbb_formatted_code = \"# now use these predictions as a training data for the second stage\\nxgb_blender = XGBClassifier(learning_rate=0.4, max_depth=9, n_estimators=200)\\nxgb_blender.fit(X_val_predictions, y_valid)\";\n",
       "                var nbb_cells = Jupyter.notebook.get_cells();\n",
       "                for (var i = 0; i < nbb_cells.length; ++i) {\n",
       "                    if (nbb_cells[i].input_prompt_number == nbb_cell_id) {\n",
       "                        if (nbb_cells[i].get_text() == nbb_unformatted_code) {\n",
       "                             nbb_cells[i].set_text(nbb_formatted_code);\n",
       "                        }\n",
       "                        break;\n",
       "                    }\n",
       "                }\n",
       "            }, 500);\n",
       "            "
      ],
      "text/plain": [
       "<IPython.core.display.Javascript object>"
      ]
     },
     "metadata": {},
     "output_type": "display_data"
    }
   ],
   "source": [
    "# now use these predictions as a training data for the second stage\n",
    "xgb_blender = XGBClassifier(learning_rate=0.4, max_depth=9, n_estimators=200)\n",
    "xgb_blender.fit(X_val_predictions, y_valid)"
   ]
  },
  {
   "cell_type": "code",
   "execution_count": 33,
   "metadata": {},
   "outputs": [
    {
     "data": {
      "application/javascript": [
       "\n",
       "            setTimeout(function() {\n",
       "                var nbb_cell_id = 33;\n",
       "                var nbb_unformatted_code = \"# Now For each instances in the test set, make predictions with all the classifiers  \\n\\nX_test_predictions = np.empty((len(X_test), len(estimators)), dtype=np.float32)\\n\\nfor index, estimator in enumerate(estimators):\\n    X_test_predictions[:, index] = estimator.predict(X_test)\";\n",
       "                var nbb_formatted_code = \"# Now For each instances in the test set, make predictions with all the classifiers\\n\\nX_test_predictions = np.empty((len(X_test), len(estimators)), dtype=np.float32)\\n\\nfor index, estimator in enumerate(estimators):\\n    X_test_predictions[:, index] = estimator.predict(X_test)\";\n",
       "                var nbb_cells = Jupyter.notebook.get_cells();\n",
       "                for (var i = 0; i < nbb_cells.length; ++i) {\n",
       "                    if (nbb_cells[i].input_prompt_number == nbb_cell_id) {\n",
       "                        if (nbb_cells[i].get_text() == nbb_unformatted_code) {\n",
       "                             nbb_cells[i].set_text(nbb_formatted_code);\n",
       "                        }\n",
       "                        break;\n",
       "                    }\n",
       "                }\n",
       "            }, 500);\n",
       "            "
      ],
      "text/plain": [
       "<IPython.core.display.Javascript object>"
      ]
     },
     "metadata": {},
     "output_type": "display_data"
    }
   ],
   "source": [
    "# Now For each instances in the test set, make predictions with all the classifiers  \n",
    "\n",
    "X_test_predictions = np.empty((len(X_test), len(estimators)), dtype=np.float32)\n",
    "\n",
    "for index, estimator in enumerate(estimators):\n",
    "    X_test_predictions[:, index] = estimator.predict(X_test)"
   ]
  },
  {
   "cell_type": "code",
   "execution_count": 34,
   "metadata": {},
   "outputs": [
    {
     "data": {
      "text/plain": [
       "array([3, 2, 2, 2, 3])"
      ]
     },
     "execution_count": 34,
     "metadata": {},
     "output_type": "execute_result"
    },
    {
     "data": {
      "application/javascript": [
       "\n",
       "            setTimeout(function() {\n",
       "                var nbb_cell_id = 34;\n",
       "                var nbb_unformatted_code = \"# now feed the predictions from the test set to the blender to get the ensemble's predictions\\ny_pred = xgb_blender.predict(X_test_predictions)\\ny_pred[:5]\";\n",
       "                var nbb_formatted_code = \"# now feed the predictions from the test set to the blender to get the ensemble's predictions\\ny_pred = xgb_blender.predict(X_test_predictions)\\ny_pred[:5]\";\n",
       "                var nbb_cells = Jupyter.notebook.get_cells();\n",
       "                for (var i = 0; i < nbb_cells.length; ++i) {\n",
       "                    if (nbb_cells[i].input_prompt_number == nbb_cell_id) {\n",
       "                        if (nbb_cells[i].get_text() == nbb_unformatted_code) {\n",
       "                             nbb_cells[i].set_text(nbb_formatted_code);\n",
       "                        }\n",
       "                        break;\n",
       "                    }\n",
       "                }\n",
       "            }, 500);\n",
       "            "
      ],
      "text/plain": [
       "<IPython.core.display.Javascript object>"
      ]
     },
     "metadata": {},
     "output_type": "display_data"
    }
   ],
   "source": [
    "# now feed the predictions from the test set to the blender to get the ensemble's predictions\n",
    "y_pred = xgb_blender.predict(X_test_predictions)\n",
    "y_pred[:5]"
   ]
  },
  {
   "cell_type": "code",
   "execution_count": 35,
   "metadata": {},
   "outputs": [
    {
     "data": {
      "application/javascript": [
       "\n",
       "            setTimeout(function() {\n",
       "                var nbb_cell_id = 35;\n",
       "                var nbb_unformatted_code = \"# submit the predictions \\nsubmission_format['damage_grade'] = y_pred\\nsave_dataframe(submission_format, \\\"stacking_pred.csv\\\")\";\n",
       "                var nbb_formatted_code = \"# submit the predictions\\nsubmission_format[\\\"damage_grade\\\"] = y_pred\\nsave_dataframe(submission_format, \\\"stacking_pred.csv\\\")\";\n",
       "                var nbb_cells = Jupyter.notebook.get_cells();\n",
       "                for (var i = 0; i < nbb_cells.length; ++i) {\n",
       "                    if (nbb_cells[i].input_prompt_number == nbb_cell_id) {\n",
       "                        if (nbb_cells[i].get_text() == nbb_unformatted_code) {\n",
       "                             nbb_cells[i].set_text(nbb_formatted_code);\n",
       "                        }\n",
       "                        break;\n",
       "                    }\n",
       "                }\n",
       "            }, 500);\n",
       "            "
      ],
      "text/plain": [
       "<IPython.core.display.Javascript object>"
      ]
     },
     "metadata": {},
     "output_type": "display_data"
    }
   ],
   "source": [
    "# submit the predictions \n",
    "submission_format['damage_grade'] = y_pred\n",
    "save_dataframe(submission_format, \"stacking_pred.csv\")"
   ]
  },
  {
   "cell_type": "markdown",
   "metadata": {},
   "source": [
    "Ok, it did performed well but could not able to beat our previous tunned xgboost model. One reason might be the rf model. The performance of the rf model was not \n",
    "good. Let's remove this model and do the stacking again."
   ]
  },
  {
   "cell_type": "code",
   "execution_count": 36,
   "metadata": {},
   "outputs": [
    {
     "data": {
      "application/javascript": [
       "\n",
       "            setTimeout(function() {\n",
       "                var nbb_cell_id = 36;\n",
       "                var nbb_unformatted_code = \"# train all the estimators on the training data\\nlightgbm_clf = LGBMClassifier()\\nxgb_clf = XGBClassifier(learning_rate=0.4, max_depth=9, n_estimators=200)\\n\\nestimators = [lightgbm_clf, xgb_clf]\\n\\nfor estimator in estimators:\\n    estimator.fit(X_train1, y_train1)\\n    \\n# use this trained estimators to make predictions on the validation set\\nX_val_predictions = np.empty((len(X_valid), len(estimators)), dtype=np.float32)\\n\\nfor index, estimator in enumerate(estimators):\\n    X_val_predictions[:, index] = estimator.predict(X_valid)\\n    \\n# now use these predictions as a training data for the second stage\\nxgb_blender = XGBClassifier(learning_rate=0.4, max_depth=9, n_estimators=200)\\nxgb_blender.fit(X_val_predictions, y_valid)\\n\\n\\n# Now For each instances in the test set, make predictions with all the classifiers  \\n\\nX_test_predictions = np.empty((len(X_test), len(estimators)), dtype=np.float32)\\n\\nfor index, estimator in enumerate(estimators):\\n    X_test_predictions[:, index] = estimator.predict(X_test)\\n    \\n# now feed the predictions from the test set to the blender to get the ensemble's predictions\\ny_pred = xgb_blender.predict(X_test_predictions)\\n\\n# submit the predictions \\nsubmission_format['damage_grade'] = y_pred\\nsave_dataframe(submission_format, \\\"stacking_pred2.csv\\\")\";\n",
       "                var nbb_formatted_code = \"# train all the estimators on the training data\\nlightgbm_clf = LGBMClassifier()\\nxgb_clf = XGBClassifier(learning_rate=0.4, max_depth=9, n_estimators=200)\\n\\nestimators = [lightgbm_clf, xgb_clf]\\n\\nfor estimator in estimators:\\n    estimator.fit(X_train1, y_train1)\\n\\n# use this trained estimators to make predictions on the validation set\\nX_val_predictions = np.empty((len(X_valid), len(estimators)), dtype=np.float32)\\n\\nfor index, estimator in enumerate(estimators):\\n    X_val_predictions[:, index] = estimator.predict(X_valid)\\n\\n# now use these predictions as a training data for the second stage\\nxgb_blender = XGBClassifier(learning_rate=0.4, max_depth=9, n_estimators=200)\\nxgb_blender.fit(X_val_predictions, y_valid)\\n\\n\\n# Now For each instances in the test set, make predictions with all the classifiers\\n\\nX_test_predictions = np.empty((len(X_test), len(estimators)), dtype=np.float32)\\n\\nfor index, estimator in enumerate(estimators):\\n    X_test_predictions[:, index] = estimator.predict(X_test)\\n\\n# now feed the predictions from the test set to the blender to get the ensemble's predictions\\ny_pred = xgb_blender.predict(X_test_predictions)\\n\\n# submit the predictions\\nsubmission_format[\\\"damage_grade\\\"] = y_pred\\nsave_dataframe(submission_format, \\\"stacking_pred2.csv\\\")\";\n",
       "                var nbb_cells = Jupyter.notebook.get_cells();\n",
       "                for (var i = 0; i < nbb_cells.length; ++i) {\n",
       "                    if (nbb_cells[i].input_prompt_number == nbb_cell_id) {\n",
       "                        if (nbb_cells[i].get_text() == nbb_unformatted_code) {\n",
       "                             nbb_cells[i].set_text(nbb_formatted_code);\n",
       "                        }\n",
       "                        break;\n",
       "                    }\n",
       "                }\n",
       "            }, 500);\n",
       "            "
      ],
      "text/plain": [
       "<IPython.core.display.Javascript object>"
      ]
     },
     "metadata": {},
     "output_type": "display_data"
    }
   ],
   "source": [
    "# train all the estimators on the training data\n",
    "lightgbm_clf = LGBMClassifier()\n",
    "xgb_clf = XGBClassifier(learning_rate=0.4, max_depth=9, n_estimators=200)\n",
    "\n",
    "estimators = [lightgbm_clf, xgb_clf]\n",
    "\n",
    "for estimator in estimators:\n",
    "    estimator.fit(X_train1, y_train1)\n",
    "    \n",
    "# use this trained estimators to make predictions on the validation set\n",
    "X_val_predictions = np.empty((len(X_valid), len(estimators)), dtype=np.float32)\n",
    "\n",
    "for index, estimator in enumerate(estimators):\n",
    "    X_val_predictions[:, index] = estimator.predict(X_valid)\n",
    "    \n",
    "# now use these predictions as a training data for the second stage\n",
    "xgb_blender = XGBClassifier(learning_rate=0.4, max_depth=9, n_estimators=200)\n",
    "xgb_blender.fit(X_val_predictions, y_valid)\n",
    "\n",
    "\n",
    "# Now For each instances in the test set, make predictions with all the classifiers  \n",
    "\n",
    "X_test_predictions = np.empty((len(X_test), len(estimators)), dtype=np.float32)\n",
    "\n",
    "for index, estimator in enumerate(estimators):\n",
    "    X_test_predictions[:, index] = estimator.predict(X_test)\n",
    "    \n",
    "# now feed the predictions from the test set to the blender to get the ensemble's predictions\n",
    "y_pred = xgb_blender.predict(X_test_predictions)\n",
    "\n",
    "# submit the predictions \n",
    "submission_format['damage_grade'] = y_pred\n",
    "save_dataframe(submission_format, \"stacking_pred2.csv\")"
   ]
  },
  {
   "cell_type": "markdown",
   "metadata": {},
   "source": [
    "ok, we got the same result as before, removing rf model did not improve the performance. "
   ]
  },
  {
   "cell_type": "markdown",
   "metadata": {},
   "source": [
    "We will try one last thing in the next section. We will do some feature selection and then train the model with only those features. "
   ]
  },
  {
   "cell_type": "code",
   "execution_count": null,
   "metadata": {},
   "outputs": [],
   "source": []
  }
 ],
 "metadata": {
  "kernelspec": {
   "display_name": "Python 3",
   "language": "python",
   "name": "python3"
  },
  "language_info": {
   "codemirror_mode": {
    "name": "ipython",
    "version": 3
   },
   "file_extension": ".py",
   "mimetype": "text/x-python",
   "name": "python",
   "nbconvert_exporter": "python",
   "pygments_lexer": "ipython3",
   "version": "3.8.3"
  }
 },
 "nbformat": 4,
 "nbformat_minor": 4
}
