{
 "cells": [
  {
   "cell_type": "code",
   "execution_count": 1,
   "metadata": {},
   "outputs": [
    {
     "data": {
      "application/javascript": [
       "\n",
       "            setTimeout(function() {\n",
       "                var nbb_cell_id = 1;\n",
       "                var nbb_unformatted_code = \"# import libraries\\nimport os\\nimport pandas as pd\\nimport numpy as np \\nimport matplotlib.pyplot as plt\\n%matplotlib inline\\nimport seaborn as sns\\nimport plotly.express as px\\nimport plotly.graph_objects as go \\n# set display options\\npd.options.display.max_columns=999\\npd.options.display.max_rows = 50\\n# code formating\\n%load_ext nb_black\\n\\n# project paths\\nproject_root_dir = os.path.normpath(os.getcwd() + os.sep + os.pardir)\\ndata_path = os.path.join(project_root_dir, \\\"data\\\")\\nimage_path = os.path.join(project_root_dir, \\\"images\\\")\\nos.makedirs(image_path, exist_ok=True)\\nmodel_path = os.path.join(project_root_dir, \\\"models\\\")\\nos.makedirs(model_path, exist_ok=True)\\n\\n# function for loading data\\ndef load_data(filename, data_path=data_path):\\n    csv_path = os.path.join(data_path, filename)\\n    return pd.read_csv(csv_path)\";\n",
       "                var nbb_formatted_code = \"# import libraries\\nimport os\\nimport pandas as pd\\nimport numpy as np\\nimport matplotlib.pyplot as plt\\n\\n%matplotlib inline\\nimport seaborn as sns\\nimport plotly.express as px\\nimport plotly.graph_objects as go\\n\\n# set display options\\npd.options.display.max_columns = 999\\npd.options.display.max_rows = 50\\n# code formating\\n%load_ext nb_black\\n\\n# project paths\\nproject_root_dir = os.path.normpath(os.getcwd() + os.sep + os.pardir)\\ndata_path = os.path.join(project_root_dir, \\\"data\\\")\\nimage_path = os.path.join(project_root_dir, \\\"images\\\")\\nos.makedirs(image_path, exist_ok=True)\\nmodel_path = os.path.join(project_root_dir, \\\"models\\\")\\nos.makedirs(model_path, exist_ok=True)\\n\\n# function for loading data\\ndef load_data(filename, data_path=data_path):\\n    csv_path = os.path.join(data_path, filename)\\n    return pd.read_csv(csv_path)\";\n",
       "                var nbb_cells = Jupyter.notebook.get_cells();\n",
       "                for (var i = 0; i < nbb_cells.length; ++i) {\n",
       "                    if (nbb_cells[i].input_prompt_number == nbb_cell_id) {\n",
       "                        if (nbb_cells[i].get_text() == nbb_unformatted_code) {\n",
       "                             nbb_cells[i].set_text(nbb_formatted_code);\n",
       "                        }\n",
       "                        break;\n",
       "                    }\n",
       "                }\n",
       "            }, 500);\n",
       "            "
      ],
      "text/plain": [
       "<IPython.core.display.Javascript object>"
      ]
     },
     "metadata": {},
     "output_type": "display_data"
    }
   ],
   "source": [
    "# import libraries\n",
    "import os\n",
    "import pandas as pd\n",
    "import numpy as np\n",
    "import matplotlib.pyplot as plt\n",
    "\n",
    "%matplotlib inline\n",
    "import seaborn as sns\n",
    "import plotly.express as px\n",
    "import plotly.graph_objects as go\n",
    "\n",
    "# set display options\n",
    "pd.options.display.max_columns = 999\n",
    "pd.options.display.max_rows = 50\n",
    "# code formating\n",
    "%load_ext nb_black\n",
    "\n",
    "# project paths\n",
    "project_root_dir = os.path.normpath(os.getcwd() + os.sep + os.pardir)\n",
    "data_path = os.path.join(project_root_dir, \"data\")\n",
    "image_path = os.path.join(project_root_dir, \"images\")\n",
    "os.makedirs(image_path, exist_ok=True)\n",
    "model_path = os.path.join(project_root_dir, \"models\")\n",
    "os.makedirs(model_path, exist_ok=True)\n",
    "\n",
    "# function for loading data\n",
    "def load_data(filename, data_path=data_path):\n",
    "    csv_path = os.path.join(data_path, filename)\n",
    "    return pd.read_csv(csv_path)"
   ]
  },
  {
   "cell_type": "code",
   "execution_count": null,
   "metadata": {},
   "outputs": [],
   "source": []
  }
 ],
 "metadata": {
  "kernelspec": {
   "display_name": "Python 3",
   "language": "python",
   "name": "python3"
  },
  "language_info": {
   "codemirror_mode": {
    "name": "ipython",
    "version": 3
   },
   "file_extension": ".py",
   "mimetype": "text/x-python",
   "name": "python",
   "nbconvert_exporter": "python",
   "pygments_lexer": "ipython3",
   "version": "3.7.6"
  }
 },
 "nbformat": 4,
 "nbformat_minor": 4
}
